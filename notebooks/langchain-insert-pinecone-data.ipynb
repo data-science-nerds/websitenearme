{
  "cells": [
    {
      "cell_type": "code",
      "execution_count": 39,
      "metadata": {
        "id": "50dvxjqCFmhF"
      },
      "outputs": [
        {
          "data": {
            "text/plain": [
              "True"
            ]
          },
          "execution_count": 39,
          "metadata": {},
          "output_type": "execute_result"
        }
      ],
      "source": [
        "# Load environment variables\n",
        "# python -m ipykernel install --user --name=webnearme-venv\n",
        "from dotenv import load_dotenv,find_dotenv\n",
        "load_dotenv(find_dotenv())\n",
        "\n"
      ]
    },
    {
      "cell_type": "code",
      "execution_count": 40,
      "metadata": {
        "id": "C7RnyUOCJWmk"
      },
      "outputs": [],
      "source": [
        "# Run basic query with OpenAI wrapper\n",
        "\n",
        "# from langchain.llms import OpenAI\n",
        "# llm = OpenAI(model_name=\"text-davinci-003\")\n",
        "# llm(\"explain large language models in one sentence\")"
      ]
    },
    {
      "cell_type": "code",
      "execution_count": 41,
      "metadata": {
        "id": "JtHgQ5XpJmgi"
      },
      "outputs": [],
      "source": [
        "# import schema for chat messages and ChatOpenAI in order to query chatmodels GPT-3.5-turbo or GPT-4\n",
        "\n",
        "from langchain.schema import (\n",
        "    AIMessage,\n",
        "    HumanMessage,\n",
        "    SystemMessage\n",
        ")\n",
        "from langchain.chat_models import ChatOpenAI"
      ]
    },
    {
      "cell_type": "code",
      "execution_count": 42,
      "metadata": {
        "id": "yrfYfKfdJyyF"
      },
      "outputs": [],
      "source": [
        "# chat = ChatOpenAI(model_name=\"gpt-3.5-turbo\",temperature=0.3)\n",
        "# messages = [\n",
        "#     SystemMessage(content=\"You are an expert data scientist\"),\n",
        "#     HumanMessage(content=\"Write a Python script that trains a neural network on simulated data \")\n",
        "# ]\n",
        "# response=chat(messages)\n",
        "\n",
        "# print(response.content,end='\\n')"
      ]
    },
    {
      "cell_type": "code",
      "execution_count": 43,
      "metadata": {
        "id": "2grf7I8AJ_hK"
      },
      "outputs": [],
      "source": [
        "# # Import prompt and define PromptTemplate\n",
        "\n",
        "# from langchain import PromptTemplate\n",
        "\n",
        "# template = \"\"\"\n",
        "# You are an expert data scientist with an expertise in building deep learning models. \n",
        "# Explain the concept of {concept} in a couple of lines\n",
        "# \"\"\"\n",
        "\n",
        "# prompt = PromptTemplate(\n",
        "#     input_variables=[\"concept\"],\n",
        "#     template=template,\n",
        "# )"
      ]
    },
    {
      "cell_type": "code",
      "execution_count": 44,
      "metadata": {
        "id": "vcz7Q9Y-KFvI"
      },
      "outputs": [],
      "source": [
        "# Run LLM with PromptTemplate\n",
        "\n",
        "# llm(prompt.format(concept=\"vector\")"
      ]
    },
    {
      "cell_type": "code",
      "execution_count": 45,
      "metadata": {
        "id": "dm78i-rUKXIB"
      },
      "outputs": [],
      "source": [
        "# Import LLMChain and define chain with language model and prompt as arguments.\n",
        "\n",
        "# from langchain.chains import LLMChain\n",
        "# chain = LLMChain(llm=llm, prompt=prompt)\n",
        "\n",
        "# # Run the chain only specifying the input variable.\n",
        "# print(chain.run(\"autoencoder\"))"
      ]
    },
    {
      "cell_type": "code",
      "execution_count": 46,
      "metadata": {
        "id": "B6MF4-nMKul3"
      },
      "outputs": [],
      "source": [
        "# # Define a second prompt \n",
        "\n",
        "# second_prompt = PromptTemplate(\n",
        "#     input_variables=[\"ml_concept\"],\n",
        "#     template=\"Turn the concept description of {ml_concept} and explain it to me like I'm five in 500 words\",\n",
        "# )\n",
        "# chain_two = LLMChain(llm=llm, prompt=second_prompt)"
      ]
    },
    {
      "cell_type": "code",
      "execution_count": 47,
      "metadata": {
        "id": "SkJKFyk1K-MO"
      },
      "outputs": [],
      "source": [
        "# # Define a sequential chain using the two chains above: the second chain takes the output of the first chain as input\n",
        "\n",
        "# from langchain.chains import SimpleSequentialChain\n",
        "# overall_chain = SimpleSequentialChain(chains=[chain, chain_two], verbose=True)\n",
        "\n",
        "# # Run the chain specifying only the input variable for the first chain.\n",
        "# explanation = overall_chain.run(\"autoencoder\")\n",
        "# print(explanation)"
      ]
    },
    {
      "cell_type": "code",
      "execution_count": 48,
      "metadata": {
        "id": "mDDu1B_SLQls"
      },
      "outputs": [
        {
          "data": {
            "text/plain": [
              "14"
            ]
          },
          "execution_count": 48,
          "metadata": {},
          "output_type": "execute_result"
        }
      ],
      "source": [
        "# Import utility for splitting up texts and split up the explanation given above into document chunks\n",
        "\n",
        "from langchain.text_splitter import RecursiveCharacterTextSplitter\n",
        "\n",
        "text_splitter = RecursiveCharacterTextSplitter(\n",
        "    chunk_size = 100,\n",
        "    chunk_overlap  = 0,\n",
        ")\n",
        "\n",
        "texts = text_splitter.create_documents([explanation])\n",
        "len(texts)"
      ]
    },
    {
      "cell_type": "code",
      "execution_count": 49,
      "metadata": {
        "id": "QaOY5bIZM3Xz"
      },
      "outputs": [],
      "source": [
        "# Import and initialize Pinecone client\n",
        "\n",
        "import os\n",
        "import pinecone\n",
        "from langchain.vectorstores import Pinecone\n",
        "\n",
        "\n",
        "pinecone.init(\n",
        "    api_key=os.getenv('PINECONE_API_KEY'),  \n",
        "    environment=os.getenv('PINECONE_ENV')  \n",
        ")"
      ]
    },
    {
      "cell_type": "code",
      "execution_count": 50,
      "metadata": {},
      "outputs": [],
      "source": [
        "import requests\n",
        "from requests.packages.urllib3.util.ssl_ import create_urllib3_context\n",
        "\n",
        "CIPHERS = (\n",
        "    'ECDHE+AESGCM:ECDHE+CHACHA20:DHE+AESGCM:DHE+CHACHA20:ECDH+AESGCM:ECDH+CHACHA20:DH+AESGCM:DH+CHACHA20:'\n",
        "    'ECDHE+AES:!aNULL:!eNULL:!EXPORT:!DES:!MD5:!PSK:!RC4:!HMAC_SHA1:!SHA1:!DHE+AES:!ECDH+AES:!DH+AES'\n",
        ")\n",
        "\n",
        "requests.packages.urllib3.util.ssl_.DEFAULT_CIPHERS = CIPHERS\n",
        "# Skip the following two lines if they cause errors\n",
        "# requests.packages.urllib3.contrib.pyopenssl.DEFAULT_SSL_CIPHER_LIST = CIPHERS\n",
        "# requests.packages.urllib3.contrib.pyopenssl.inject_into_urllib3()\n",
        "requests.packages.urllib3.util.ssl_.create_default_context = create_urllib3_context\n"
      ]
    },
    {
      "cell_type": "code",
      "execution_count": 51,
      "metadata": {},
      "outputs": [],
      "source": [
        "# # Initialize Pinecone\n",
        "# index_name = \"websitenearme-fast-api\"\n",
        "# DIMENSIONS=128\n",
        "\n",
        "# # Create and configure index if doesn't already exist\n",
        "# if index_name not in pinecone.list_indexes():\n",
        "#     pinecone.create_index(\n",
        "#         name=index_name, \n",
        "#         metric=\"cosine\",\n",
        "#         dimension=DIMENSIONS)\n",
        "#     docsearch = Pinecone.from_documents(texts[0], embeddings, index_name=index_name)\n",
        "\n",
        "# else:\n",
        "#     docsearch = Pinecone.from_existing_index(index_name, embeddings)\n",
        "\n",
        "# print(docsearch)"
      ]
    },
    {
      "cell_type": "code",
      "execution_count": 52,
      "metadata": {},
      "outputs": [
        {
          "data": {
            "text/plain": [
              "[]"
            ]
          },
          "execution_count": 52,
          "metadata": {},
          "output_type": "execute_result"
        }
      ],
      "source": []
    },
    {
      "cell_type": "markdown",
      "metadata": {},
      "source": [
        "## we created the index up to this point\n",
        "## next we will insert the data into pinecone"
      ]
    },
    {
      "cell_type": "markdown",
      "metadata": {},
      "source": [
        "# we will create a hybrid index that can search semantic and keyword"
      ]
    },
    {
      "cell_type": "code",
      "execution_count": 54,
      "metadata": {},
      "outputs": [],
      "source": [
        "index = pinecone.Index('websitenearme-fast-api')"
      ]
    },
    {
      "cell_type": "code",
      "execution_count": 55,
      "metadata": {},
      "outputs": [],
      "source": [
        "all_sentences = [\"Fast websites, fast!\",\"HIRE US\",\"MAIN PRODUCT/SERVICE 1\",\"OUR EX1: WEBSITE DESIGN\",\"\",\"Initial website, same template as this site\t1 design + hosting and domain (godaddy or transferred to godaddy)= ~$550\",\"AI-powered SEO initial setup\t$0, included\",\"multilingual\t$0, included\",\"chatbot + maintenance\tNOT INCLUDED\",\"Website design\",\"MAIN PRODUCT/SERVICE 2\",\"OUR EX2: CHATBOTS FOR OUR WEBSITES\",\"\",\"Website + 1 site-specific chatbot\t$100 * 1 time, chatbot setup, $20/month chatGPT subscription\",\"Train model with AI-generated + your questions & answers\t$100/ training round\",\"Multiple chatbots with different personalities/ purposes\t$100 each\",\"Connect chatbot to your existing website (i.e., we did not build your website)\tPlease contact us with specifics, these start at $500/each and we reserve the right to say no\",\"Chatbot types and prices\",\"MAIN PRODUCT/SERVICE 3\",\"EX3: SUBSCRIPTIONS\",\"\",\"monthly site health + maintenance + minor updates + 3 emergency updates\t$50/month\",\"monthly site health + maintenance + minor updates + 1 emergency update/week\t$250/month\",\"emergency update\t$50\",\"content generation- 4 posts, 1 per week\t$100/month\",\"Subscriptions and prices\"]"
      ]
    },
    {
      "cell_type": "code",
      "execution_count": 59,
      "metadata": {},
      "outputs": [
        {
          "name": "stdout",
          "output_type": "stream",
          "text": [
            "(26, 768)\n",
            "768\n",
            "[[-2.35444633e-03  5.48605137e-02 -3.57232727e-02 -8.66033509e-03\n",
            "   1.22838309e-02 -2.31732037e-02  2.15398464e-02  3.68994251e-02\n",
            "  -1.17613141e-04 -4.66104783e-02 -5.90305449e-03 -6.81372806e-02\n",
            "   3.35595235e-02  5.76601364e-02  5.46999602e-03  1.67380031e-02\n",
            "   4.78123734e-03  1.83588676e-02 -1.51509894e-02  1.55020389e-03\n",
            "   1.04834959e-02 -4.37937155e-02 -2.71082576e-02 -1.38526736e-02\n",
            "   2.51252055e-02 -3.59955840e-02 -7.81918876e-03  3.21647860e-02\n",
            "  -4.07713130e-02 -5.99804297e-02  2.53628823e-03 -1.73783060e-02\n",
            "  -2.66849659e-02  2.87912805e-02  3.07434567e-09  1.53542096e-02\n",
            "  -1.65473588e-03 -7.35954242e-03 -9.00205299e-02  1.03918694e-01\n",
            "  -3.22410986e-02  9.26716160e-03 -3.19100432e-02  1.39510101e-02\n",
            "   1.24675678e-02 -4.18858081e-02  5.70722297e-03 -5.45279644e-02\n",
            "  -4.88943644e-02  5.97022660e-02 -3.53687368e-02  1.49220414e-02\n",
            "  -3.00463904e-02 -2.08735559e-02  3.38984355e-02 -3.03387512e-02\n",
            "  -1.00002084e-02 -5.85185178e-02  6.18790351e-02  6.68968447e-03\n",
            "  -4.73129749e-03 -4.96067517e-02 -3.05189230e-02 -1.34688336e-04\n",
            "  -3.40845883e-02  2.99557578e-02  2.92638578e-02 -2.87763979e-02\n",
            "  -1.30798705e-02  7.51560032e-02 -7.07463408e-03 -1.22585557e-02\n",
            "   3.58563624e-02  3.65237216e-03 -7.70555902e-03  1.00495694e-02\n",
            "   1.63449384e-02  9.97935310e-02  3.80520821e-02  2.93396134e-02\n",
            "  -9.37349424e-02 -6.33878401e-03  2.52725128e-02  1.42629268e-02\n",
            "   4.25941423e-02  4.76615271e-03 -6.23661559e-03  1.64991207e-02\n",
            "  -8.87235394e-04  1.30985118e-02  4.24384959e-02 -3.58461216e-02\n",
            "  -1.73138939e-02 -7.03320233e-03  7.30057154e-03 -5.37554286e-02\n",
            "  -3.08346399e-03  7.77185112e-02  9.16993544e-02 -4.33226489e-02\n",
            "   3.66310813e-02  2.17409823e-02  4.83897561e-03  1.15494030e-02\n",
            "  -6.21318631e-02 -7.31353741e-03 -3.97020057e-02 -7.56901354e-02\n",
            "   1.29765887e-02  6.48807809e-02  6.83850562e-03  4.32584388e-03\n",
            "   8.71064793e-03  5.40607050e-02 -2.80118361e-02  2.29377579e-02\n",
            "  -2.24091616e-02  3.37634496e-02  3.42575163e-02 -1.07305846e-03\n",
            "   3.31273489e-03  1.32310893e-02  6.59501227e-03  1.01214526e-02\n",
            "  -6.75450712e-02 -1.37051949e-02 -6.58175349e-02  7.81600364e-03\n",
            "  -2.62177996e-02  7.83941429e-03  1.16902934e-02  2.15746649e-02\n",
            "   5.32528311e-02  2.16938667e-02  1.83097757e-02  5.62471077e-02\n",
            "  -1.62956007e-02  2.08428167e-02 -4.31076251e-02 -2.14782227e-02\n",
            "   1.02557903e-02 -1.54988002e-02 -3.57323065e-02  2.15550885e-02\n",
            "  -1.66404638e-02  2.44236961e-02  3.14506516e-02  8.83610826e-03\n",
            "  -2.37933844e-02 -5.50921820e-02 -3.18136662e-02 -3.45577369e-03\n",
            "   5.43452939e-03 -1.69009902e-03 -3.55012566e-02 -2.23260224e-02\n",
            "  -4.46991035e-04  2.93047838e-02 -1.83962192e-02  3.97252180e-02\n",
            "  -2.65295035e-03  2.12679151e-02 -2.12598331e-02  6.74039871e-02\n",
            "   3.81187275e-02  1.29842442e-02 -7.09284004e-03 -3.42289992e-02\n",
            "   1.25786271e-02 -1.31515451e-02  8.87462869e-03 -2.08731554e-02\n",
            "  -1.71153266e-02  3.22044417e-02 -1.50638232e-02 -5.82324639e-02\n",
            "   4.00157832e-03 -2.87018251e-02  1.01346644e-02  2.60897093e-02\n",
            "  -2.18738560e-02 -1.15262300e-01 -1.69362444e-02  5.13514765e-02\n",
            "  -8.30971461e-04  3.10842283e-02 -1.58010889e-02  6.71632737e-02\n",
            "  -5.87151088e-02  8.74785939e-04 -2.06140876e-02 -1.60968080e-02\n",
            "   4.60834568e-03  3.26081254e-02 -4.51341942e-02 -6.36564344e-02\n",
            "  -2.17652973e-03 -3.69204134e-02 -1.05734821e-02 -4.82417364e-03\n",
            "  -7.22234184e-03  2.74340212e-02 -7.93660805e-02  1.07248068e-01\n",
            "  -4.30300646e-02  7.88409412e-02 -2.79486994e-03  1.49087105e-02\n",
            "  -2.01768819e-02  2.76531745e-02  1.62466639e-03  4.51207487e-03\n",
            "  -1.03270737e-02  3.85419303e-03  5.01695573e-02  1.71583937e-03\n",
            "   4.68755998e-02  6.58410415e-03  4.70799282e-02  7.21566826e-02\n",
            "   1.36106182e-02  3.67993861e-02  4.18089665e-02 -2.29473803e-02\n",
            "   4.23469022e-02  1.81377621e-03 -4.27012369e-02  4.29433323e-02\n",
            "  -2.08242331e-02 -3.41136269e-02 -3.54091227e-02 -1.38469823e-02\n",
            "   3.69055830e-02  6.89903134e-03 -3.08942646e-02  2.50646938e-02\n",
            "   1.51279166e-01  7.03376308e-02  1.42970765e-02 -5.21093011e-02\n",
            "   1.87512394e-02  4.29846384e-02  2.27371212e-02  1.60647184e-02\n",
            "  -2.62975879e-03  1.06604695e-02 -4.51245010e-02  3.63822989e-02\n",
            "   4.98581715e-02 -1.43193994e-02  1.03755649e-02  4.30759788e-03\n",
            "   1.41901821e-02  3.99877802e-02 -1.65755413e-02  3.07082590e-02\n",
            "  -3.05214338e-02  9.02781729e-03  4.74597774e-02  3.12289800e-02\n",
            "   8.29062387e-02 -4.79685962e-02  3.45176682e-02 -1.18045406e-02\n",
            "  -2.80683991e-02 -5.21817096e-02 -1.36942361e-02  2.65944395e-02\n",
            "  -4.25160341e-02 -6.81609567e-03 -1.10533340e-02 -2.19925027e-02\n",
            "  -2.43972428e-03 -9.81188565e-03  9.13818553e-03 -7.43304659e-03\n",
            "   6.23044111e-02 -3.54734436e-02  1.90495863e-03 -1.40241636e-02\n",
            "  -3.73782292e-02 -6.99384585e-02  6.71270816e-03 -1.73050389e-02\n",
            "   1.30065987e-02 -2.93060485e-02  1.85515024e-02 -9.15278196e-02\n",
            "  -1.08287036e-02 -6.30257353e-02  2.16405168e-02  1.01568690e-02\n",
            "   3.75445448e-02 -6.29729107e-02 -2.77174427e-03 -3.32323425e-02\n",
            "  -4.36136536e-02  2.04320808e-04  4.89414204e-04 -2.06198525e-02\n",
            "   1.48092303e-02 -8.17477144e-03 -5.93552599e-03 -1.66922417e-02\n",
            "  -1.31926769e-02  2.83716973e-02  1.11006796e-02 -5.00227604e-03\n",
            "  -3.26025188e-02  1.22436350e-02  1.63714495e-02 -1.97349899e-02\n",
            "  -3.91803682e-03  2.67086402e-02 -2.75410642e-03 -9.31989308e-03\n",
            "   8.00169818e-03  1.78736281e-02 -5.95728196e-02  4.27614376e-02\n",
            "   2.12648362e-02  4.24627364e-02 -3.52249071e-02  2.69954782e-02\n",
            "   5.57576790e-02  3.51274922e-03 -1.60407126e-02  2.41539087e-02\n",
            "  -8.26612581e-04 -8.05554092e-02  3.10195927e-02 -3.57014984e-02\n",
            "  -8.68186075e-03  2.28128117e-02  5.36524737e-03  1.23567626e-01\n",
            "  -3.95590700e-02 -6.54327497e-03  3.60070616e-02 -8.84684175e-03\n",
            "  -4.16231640e-02 -7.41297826e-02  9.79792210e-04 -9.94299203e-02\n",
            "  -7.59063475e-03 -5.52528687e-02  6.05858453e-02 -3.92335914e-02\n",
            "  -5.44134304e-02 -2.03245021e-02  1.06212087e-02  2.47139949e-02\n",
            "  -3.33532766e-02 -6.56382414e-03  6.75870851e-03  8.47473815e-02\n",
            "  -3.64601910e-02 -2.03089342e-02 -2.26141363e-02  2.58818641e-02\n",
            "  -4.65866970e-03  6.70254305e-02  8.76570418e-02  6.71147108e-02\n",
            "   8.36539175e-03  1.25167603e-02  2.86288224e-02  1.37467096e-02\n",
            "  -1.31171932e-02  1.45645738e-02 -3.79678570e-02  6.08725324e-02\n",
            "   2.66071241e-02  2.48208027e-02 -3.62975709e-03 -2.83669457e-02\n",
            "  -2.37503182e-02  4.95347083e-02 -2.59043798e-02  5.19267172e-02\n",
            "  -9.81964986e-04  7.58801354e-04  3.80574428e-02  1.68538596e-02\n",
            "  -3.48031744e-02 -4.51323092e-02 -3.11239790e-02 -1.26826437e-02\n",
            "   1.73576940e-02 -4.16890252e-03 -1.88717712e-02  4.22743224e-02\n",
            "   1.64298750e-02 -3.24490033e-02  1.47415316e-02  5.34485728e-02\n",
            "  -4.40253653e-02  1.26502970e-02 -2.56110243e-02  2.12839041e-02\n",
            "   2.83041671e-02 -3.66654992e-02  4.18026336e-02  2.86897272e-02\n",
            "  -8.13673530e-03 -2.63263402e-03  1.66278724e-02 -1.08452197e-02\n",
            "  -3.61786783e-02 -6.34445176e-02  2.12365817e-02 -4.71266843e-02\n",
            "  -2.99145970e-02  2.87492163e-02 -6.61239401e-03 -4.77334522e-02\n",
            "   8.21879786e-03  1.57065522e-02 -1.09306918e-02 -4.72926460e-02\n",
            "   3.61805484e-02  5.05207432e-03 -3.10307536e-02  3.04412842e-03\n",
            "   7.75070535e-03 -4.68818694e-02  3.95029262e-02 -1.20940118e-03\n",
            "  -1.76027883e-02 -1.18424268e-02 -7.18115494e-02  3.05150524e-02\n",
            "   3.58164273e-02 -5.20671606e-02  1.76420063e-02 -7.08382726e-02\n",
            "   5.10718450e-02 -9.49712563e-03  3.31819393e-02 -3.19981799e-02\n",
            "   1.80045683e-02 -6.40393747e-03 -2.40711085e-02  3.52121368e-02\n",
            "  -7.71669298e-02  3.93295335e-03 -5.84603241e-03 -9.10620540e-02\n",
            "   3.53538617e-03  2.59211045e-02 -7.09123090e-02 -5.78779466e-02\n",
            "   7.30048679e-03  4.08554450e-02  1.17788641e-02  2.24684570e-02\n",
            "   3.64548042e-02 -2.17188597e-02  2.34517828e-02 -2.71842889e-02\n",
            "   2.32844353e-02  6.61937061e-10 -2.82242037e-02 -1.88670326e-02\n",
            "  -2.04766672e-02 -5.30216172e-02  9.03438479e-02 -7.21089989e-02\n",
            "   1.65247582e-02  1.95385106e-02 -7.35273436e-02  4.55344887e-03\n",
            "  -1.58551242e-02 -1.99785884e-02 -7.35453591e-02 -1.39976116e-02\n",
            "  -3.22791710e-02 -1.16055878e-02  1.56450216e-02  2.77726874e-02\n",
            "   1.74984634e-02  3.67212482e-02 -1.69890858e-02 -9.08224192e-03\n",
            "   1.96419060e-02  1.75215546e-02  1.56924296e-02 -4.05919291e-02\n",
            "   4.67986874e-02 -7.35607836e-03  6.55114837e-03  8.12326965e-04\n",
            "  -2.91446187e-02 -1.75722316e-02  8.68782327e-02 -2.27745678e-02\n",
            "  -2.71305721e-02 -8.36274698e-02 -1.06428824e-02 -1.64313689e-02\n",
            "   1.53296106e-02 -1.22012272e-02 -3.83766997e-03  4.82135601e-02\n",
            "  -2.56297905e-02  2.96934042e-02 -1.59782097e-02 -4.23060078e-03\n",
            "   1.44114606e-02  4.07517515e-03 -1.73115544e-02 -2.14590281e-02\n",
            "  -2.15612389e-02 -2.10947525e-02 -4.28121798e-02 -1.47500085e-02\n",
            "   4.93349060e-02  1.60090514e-02 -1.42875761e-02 -2.80316155e-02\n",
            "   1.44196451e-02 -2.19932720e-02 -8.57191626e-03 -1.80854592e-02\n",
            "   1.21067194e-02 -3.16082686e-02  2.83889603e-02 -1.82498693e-02\n",
            "   5.00892624e-02  2.44317427e-02 -1.51261194e-02  2.15174854e-02\n",
            "   4.54629809e-02  2.06560665e-03  2.12837942e-03  3.85574475e-02\n",
            "  -3.51265557e-02  2.93687843e-02 -4.51480038e-03 -7.62026832e-02\n",
            "   3.43622006e-02  2.89855078e-02  8.55494570e-03 -1.58149861e-02\n",
            "  -4.45907786e-02 -2.58345599e-03  1.63880028e-02  3.92801054e-02\n",
            "  -2.71199979e-02 -2.57564317e-02 -1.96736101e-02  2.00506486e-02\n",
            "  -8.51491168e-02  1.43131157e-02 -7.82745611e-03  4.99823682e-10\n",
            "   2.11919378e-02 -1.74137042e-03 -8.22860468e-03 -2.77927071e-02\n",
            "  -1.14634763e-02  5.45975603e-02  3.94432209e-02  2.17649341e-02\n",
            "  -3.62110510e-03 -3.05530373e-02 -3.52067724e-02  3.65320072e-02\n",
            "   9.51170642e-03 -5.44097275e-03  1.76349748e-03 -1.62240658e-02\n",
            "   1.92196276e-02 -1.16817318e-02 -5.78129664e-03 -7.71526946e-03\n",
            "  -4.10594828e-02 -2.15384681e-02 -9.71579086e-03  3.29940841e-02\n",
            "  -3.44287697e-03  7.76938105e-04 -1.86366066e-02 -7.36789182e-02\n",
            "   6.16621673e-02  5.64647950e-02 -3.18989940e-02 -1.83744226e-02\n",
            "  -3.78457680e-02 -7.51675516e-02 -5.10135107e-03 -6.89923540e-02\n",
            "  -2.92305816e-02  6.75952658e-02  3.31497751e-02  3.04901376e-02\n",
            "   6.61192238e-02 -4.35855947e-02  1.04452400e-02  1.73095614e-02\n",
            "   2.17673704e-02 -1.57634041e-03  1.83883756e-02 -1.79571491e-02\n",
            "  -4.67314236e-02  4.77348501e-03 -4.76038782e-04 -1.24763520e-02\n",
            "  -3.44029590e-02  2.13134605e-02  3.95655520e-02  8.65661800e-02\n",
            "  -2.29799002e-02 -3.82123999e-02 -4.36466672e-02  3.87151875e-02\n",
            "  -1.31669128e-02  2.05104798e-02 -9.05466825e-03  4.15515417e-04\n",
            "  -5.72309680e-02  3.66755873e-02  5.84287802e-03 -6.54515475e-02\n",
            "   5.21091036e-02  4.47030738e-02  6.53206632e-02  2.85824165e-02\n",
            "  -1.84205677e-02  7.19411764e-03  1.67698525e-02 -1.07277874e-02\n",
            "  -8.35887436e-03 -4.26862622e-03  4.84368987e-02 -3.48189250e-02\n",
            "   7.80629143e-02 -5.59143871e-02 -1.44232446e-02  2.90877651e-02\n",
            "   1.68990213e-02  5.86459339e-02  1.05045121e-02 -3.38533567e-03\n",
            "   1.08153764e-02  2.78845578e-02  2.36429833e-02  2.08404977e-02\n",
            "   2.27005333e-02 -5.52711785e-02 -3.65102962e-02  5.58776669e-02\n",
            "  -3.47348675e-02  6.91498667e-02  1.43425027e-03 -5.41945510e-02\n",
            "   2.69415881e-02 -2.29341500e-02 -7.11084083e-02  8.17625076e-02\n",
            "  -3.75195825e-03  4.06050421e-02 -2.79057734e-02  8.12595338e-03\n",
            "  -4.57442328e-02  1.93371403e-03  8.81373975e-03 -2.67943591e-02\n",
            "   2.89573632e-02 -5.05374223e-02  2.87302062e-02  5.51951304e-03\n",
            "   1.92674510e-02  1.02231186e-02  3.21860472e-03 -3.64457667e-02\n",
            "   1.99302956e-02 -3.97475101e-02 -2.57579722e-02  2.80115698e-02\n",
            "  -5.04085943e-02  1.08495250e-03 -2.58192699e-02  7.98652619e-02\n",
            "  -3.09950709e-02 -1.28138483e-01  5.47616859e-04  6.25613320e-04\n",
            "   1.66214242e-08  5.35945874e-03  8.58469903e-02 -6.31937385e-03\n",
            "   2.14748308e-02 -3.05041932e-02 -2.43750606e-02  1.92418117e-02\n",
            "   6.78487029e-03  2.99910316e-03  8.47234577e-02  5.12016146e-03\n",
            "   6.59280568e-02 -5.59739731e-02  2.11239364e-02 -1.19949868e-02\n",
            "  -5.71073964e-02 -4.33519967e-02  1.33688124e-02 -2.05101278e-02\n",
            "   2.63273306e-02  2.08314266e-02  5.54369651e-02 -7.34290704e-02\n",
            "   6.94134086e-03  1.79139953e-02  1.88028440e-02 -2.44937781e-02\n",
            "   7.35196099e-03  3.99078354e-02  8.57358682e-04 -3.12843286e-02\n",
            "   5.31610399e-02 -7.29364576e-03 -3.13347057e-02  6.74514519e-03\n",
            "  -1.12324441e-02 -4.20131087e-02  3.79761070e-04  4.41180393e-02\n",
            "   7.87457824e-03  1.66578917e-03 -9.06818733e-03  6.24868600e-03\n",
            "  -1.08880782e-02  5.39452620e-02  2.18464658e-02  4.75952838e-04\n",
            "   4.82418463e-02  4.71984211e-04 -4.49327268e-02  8.98558274e-03\n",
            "  -2.89388932e-03 -1.20806051e-02  5.81070874e-03 -2.32502203e-02\n",
            "  -6.78346455e-02 -1.99878146e-03 -2.09295694e-02 -2.12572722e-05\n",
            "   5.74676655e-02  4.46717478e-02 -4.13699299e-02 -1.41718229e-02\n",
            "   5.67243584e-02  6.57577217e-02  3.51242051e-02  2.34738216e-02\n",
            "  -4.30658665e-33  2.22288910e-03 -3.10259722e-02  3.72146331e-02\n",
            "   6.68688118e-02 -4.97216582e-02 -2.17908770e-02 -1.09847002e-02\n",
            "  -2.76267417e-02 -1.85563471e-02 -4.24193032e-03  1.46611389e-02]]\n"
          ]
        }
      ],
      "source": [
        "from sentence_transformers import SentenceTransformer\n",
        "\n",
        "model = SentenceTransformer('flax-sentence-embeddings/all_datasets_v3_mpnet-base')\n",
        "\n",
        "all_embeddings = model.encode(all_sentences)\n",
        "print(all_embeddings.shape)\n",
        "print(all_embeddings.shape[1])\n",
        "print(all_embeddings[0:1])"
      ]
    },
    {
      "cell_type": "markdown",
      "metadata": {},
      "source": [
        "# the above is sufficient for upserting semantic searches, however the next step allows us to be able to do keyword searches"
      ]
    },
    {
      "cell_type": "code",
      "execution_count": 57,
      "metadata": {},
      "outputs": [
        {
          "name": "stdout",
          "output_type": "stream",
          "text": [
            "huggingface/tokenizers: The current process just got forked, after parallelism has already been used. Disabling parallelism to avoid deadlocks...\n",
            "To disable this warning, you can either:\n",
            "\t- Avoid using `tokenizers` before the fork if possible\n",
            "\t- Explicitly set the environment variable TOKENIZERS_PARALLELISM=(true | false)\n",
            "Requirement already satisfied: sacremoses in /Users/elsa/Documents/CODE/websitenearme/webnearme-venv/lib/python3.11/site-packages (0.0.53)\n",
            "Requirement already satisfied: regex in /Users/elsa/Documents/CODE/websitenearme/webnearme-venv/lib/python3.11/site-packages (from sacremoses) (2023.6.3)\n",
            "Requirement already satisfied: six in /Users/elsa/Documents/CODE/websitenearme/webnearme-venv/lib/python3.11/site-packages (from sacremoses) (1.16.0)\n",
            "Requirement already satisfied: click in /Users/elsa/Documents/CODE/websitenearme/webnearme-venv/lib/python3.11/site-packages (from sacremoses) (8.1.6)\n",
            "Requirement already satisfied: joblib in /Users/elsa/Documents/CODE/websitenearme/webnearme-venv/lib/python3.11/site-packages (from sacremoses) (1.3.1)\n",
            "Requirement already satisfied: tqdm in /Users/elsa/Documents/CODE/websitenearme/webnearme-venv/lib/python3.11/site-packages (from sacremoses) (4.65.0)\n",
            "Note: you may need to restart the kernel to use updated packages.\n"
          ]
        },
        {
          "data": {
            "text/plain": [
              "['fast', 'websites', ',', 'fast', '!']"
            ]
          },
          "execution_count": 57,
          "metadata": {},
          "output_type": "execute_result"
        }
      ],
      "source": [
        "%pip install sacremoses\n",
        "from transformers import AutoTokenizer\n",
        "\n",
        "# transfo-xl tokenizer uses word-level encodings\n",
        "tokenizer = AutoTokenizer.from_pretrained('transfo-xl-wt103')\n",
        "\n",
        "all_tokens = [tokenizer.tokenize(sentence.lower()) for sentence in all_sentences]\n",
        "all_tokens[0]"
      ]
    },
    {
      "cell_type": "markdown",
      "metadata": {},
      "source": [
        "## we will connect to pinecone"
      ]
    },
    {
      "cell_type": "code",
      "execution_count": 60,
      "metadata": {},
      "outputs": [
        {
          "data": {
            "text/plain": [
              "IndexDescription(name='websitenearme-fast-api', metric='cosine', replicas=1, dimension=768.0, shards=1, pods=1, pod_type='p1', status={'ready': True, 'state': 'Ready'}, metadata_config=None, source_collection='')"
            ]
          },
          "execution_count": 60,
          "metadata": {},
          "output_type": "execute_result"
        }
      ],
      "source": [
        "import pinecone\n",
        "\n",
        "# connect to pinecone environment\n",
        "pinecone.init(\n",
        "    api_key=os.getenv('PINECONE_API_KEY'),  \n",
        "    environment=os.getenv('PINECONE_ENV') \n",
        ")\n",
        "\n",
        "pinecone.list_indexes()  # check if keyword-search index already exists\n",
        "\n",
        "\n",
        "# # Initialize Pinecone\n",
        "INDEX_NAME = \"websitenearme-fast-api\"\n",
        "DIMENSIONS=all_embeddings.shape[1]\n",
        "\n",
        "# # Create and configure index if doesn't already exist\n",
        "if index_name not in pinecone.list_indexes():\n",
        "    pinecone.create_index(\n",
        "        name=INDEX_NAME, \n",
        "        metric=\"eucladian\",\n",
        "        dimension=DIMENSIONS\n",
        "        )\n",
        "\n",
        "index = pinecone.Index(INDEX_NAME)\n",
        "pinecone.list_indexes()\n",
        "pinecone.describe_index(index_name)"
      ]
    },
    {
      "cell_type": "markdown",
      "metadata": {},
      "source": [
        "## now we will upsert the data"
      ]
    },
    {
      "cell_type": "code",
      "execution_count": 71,
      "metadata": {},
      "outputs": [],
      "source": [
        "# only do this if i want a local json file\n",
        "import json\n",
        "from datetime import datetime\n",
        "\n",
        "# Assume all_embeddings and all_tokens are already defined\n",
        "\n",
        "# reformat the data\n",
        "upserts = {'vectors': []}\n",
        "for i, (embedding, tokens) in enumerate(zip(all_embeddings, all_tokens)):\n",
        "    vector = {\n",
        "        'id': f'{i}',\n",
        "        'metadata': {\n",
        "            'tokens': tokens,\n",
        "            'time_stamp': datetime.now().strftime('%Y-%m-%d %H:%M:%S')  # Place timestamp within metadata\n",
        "        },\n",
        "        'values': embedding.tolist()\n",
        "    }\n",
        "    upserts['vectors'].append(vector)\n",
        "\n",
        "# Add namespace at the root level\n",
        "upserts['namespace'] = 'websitenearme'\n",
        "\n",
        "# save to JSON\n",
        "with open('./upsert.json', 'w') as f:\n",
        "    json.dump(upserts, f, indent=4)\n",
        "\n"
      ]
    },
    {
      "cell_type": "code",
      "execution_count": 74,
      "metadata": {},
      "outputs": [
        {
          "data": {
            "application/vnd.jupyter.widget-view+json": {
              "model_id": "998d6a2ff87e49bc8bb5d687851a96c2",
              "version_major": 2,
              "version_minor": 0
            },
            "text/plain": [
              "  0%|          | 0/1 [00:00<?, ?it/s]"
            ]
          },
          "metadata": {},
          "output_type": "display_data"
        }
      ],
      "source": [
        "# upsert data straight into pinecone\n",
        "import json\n",
        "from datetime import datetime\n",
        "from tqdm.auto import tqdm  # for progress bar\n",
        "\n",
        "# Assume all_embeddings and all_tokens are already defined\n",
        "\n",
        "# reformat the data\n",
        "# data means the zipped embeddings and all tokens\n",
        "# this correctly formats the json dump\n",
        "# and is working to upload straight \n",
        "# into pincone as of Aguust 9, 2023\n",
        "upserts = {'vectors': []}\n",
        "for i, (embedding, tokens) in enumerate(zip(all_embeddings, all_tokens)):\n",
        "    vector = {\n",
        "        'id': f'{i}',\n",
        "        'metadata': {\n",
        "            'tokens': tokens,\n",
        "            'time_stamp': datetime.now().strftime('%Y-%m-%d %H:%M:%S')  # Place timestamp within metadata\n",
        "        },\n",
        "        'values': embedding.tolist()\n",
        "    }\n",
        "    upserts['vectors'].append(vector)\n",
        "\n",
        "# Add namespace at the root level\n",
        "upserts['namespace'] = 'websitenearme'\n",
        "\n",
        "# Use upserts['vectors'] as the dataset\n",
        "dataset = upserts['vectors']\n",
        "\n",
        "# Insert data as batches\n",
        "batch_size = 100\n",
        "for i in tqdm(range(0, len(dataset), batch_size)):\n",
        "    # set end of current batch\n",
        "    i_end = i + batch_size\n",
        "    if i_end > len(dataset):\n",
        "        # correct if batch is beyond dataset size\n",
        "        i_end = len(dataset)\n",
        "    batch = dataset[i: i_end]\n",
        "    # Upsert the batch (assuming the structure of batch matches the expected format)\n",
        "    index.upsert(vectors=batch)\n"
      ]
    },
    {
      "cell_type": "code",
      "execution_count": 67,
      "metadata": {},
      "outputs": [],
      "source": [
        "query_sentence = \"prices\"\n",
        "xq = model.encode(query_sentence).tolist()"
      ]
    },
    {
      "cell_type": "code",
      "execution_count": 68,
      "metadata": {},
      "outputs": [
        {
          "data": {
            "text/plain": [
              "{'matches': [{'id': '25',\n",
              "              'metadata': {'time_stamp': datetime.datetime(2023, 8, 9, 10, 26, 7),\n",
              "                           'tokens': ['subscriptions', 'and', 'prices']},\n",
              "              'score': 0.488167524,\n",
              "              'values': []}],\n",
              " 'namespace': ''}"
            ]
          },
          "execution_count": 68,
          "metadata": {},
          "output_type": "execute_result"
        }
      ],
      "source": [
        "result = index.query(xq, top_k=1, includeMetadata=True)\n",
        "result"
      ]
    },
    {
      "cell_type": "code",
      "execution_count": 70,
      "metadata": {},
      "outputs": [],
      "source": [
        "# use this to check what's in pinecone"
      ]
    },
    {
      "cell_type": "code",
      "execution_count": null,
      "metadata": {},
      "outputs": [],
      "source": []
    },
    {
      "cell_type": "code",
      "execution_count": null,
      "metadata": {},
      "outputs": [],
      "source": []
    },
    {
      "cell_type": "markdown",
      "metadata": {},
      "source": []
    },
    {
      "cell_type": "code",
      "execution_count": null,
      "metadata": {},
      "outputs": [],
      "source": []
    },
    {
      "cell_type": "code",
      "execution_count": null,
      "metadata": {},
      "outputs": [
        {
          "ename": "InvalidRequestError",
          "evalue": "'$.input' is invalid. Please check the API reference: https://platform.openai.com/docs/api-reference.",
          "output_type": "error",
          "traceback": [
            "\u001b[0;31m---------------------------------------------------------------------------\u001b[0m",
            "\u001b[0;31mInvalidRequestError\u001b[0m                       Traceback (most recent call last)",
            "Cell \u001b[0;32mIn[33], line 8\u001b[0m\n\u001b[1;32m      4\u001b[0m openai\u001b[39m.\u001b[39mapi_key \u001b[39m=\u001b[39m os\u001b[39m.\u001b[39mgetenv(\u001b[39m'\u001b[39m\u001b[39mOPENAI_API_KEY\u001b[39m\u001b[39m'\u001b[39m)\n\u001b[1;32m      6\u001b[0m MODEL \u001b[39m=\u001b[39m \u001b[39m\"\u001b[39m\u001b[39mtext-embedding-ada-002\u001b[39m\u001b[39m\"\u001b[39m\n\u001b[0;32m----> 8\u001b[0m res \u001b[39m=\u001b[39m openai\u001b[39m.\u001b[39;49mEmbedding\u001b[39m.\u001b[39;49mcreate(\n\u001b[1;32m      9\u001b[0m     \u001b[39minput\u001b[39;49m\u001b[39m=\u001b[39;49minput_lst \u001b[39m# must be a list\u001b[39;49;00m\n\u001b[1;32m     10\u001b[0m     , engine\u001b[39m=\u001b[39;49mMODEL\n\u001b[1;32m     11\u001b[0m )\n\u001b[1;32m     13\u001b[0m \u001b[39m# extract embeddings to a list\u001b[39;00m\n\u001b[1;32m     14\u001b[0m embeds \u001b[39m=\u001b[39m [record[\u001b[39m'\u001b[39m\u001b[39membedding\u001b[39m\u001b[39m'\u001b[39m] \u001b[39mfor\u001b[39;00m record \u001b[39min\u001b[39;00m res[\u001b[39m'\u001b[39m\u001b[39mdata\u001b[39m\u001b[39m'\u001b[39m]]\n",
            "File \u001b[0;32m~/Documents/CODE/websitenearme/webnearme-venv/lib/python3.11/site-packages/openai/api_resources/embedding.py:33\u001b[0m, in \u001b[0;36mEmbedding.create\u001b[0;34m(cls, *args, **kwargs)\u001b[0m\n\u001b[1;32m     31\u001b[0m \u001b[39mwhile\u001b[39;00m \u001b[39mTrue\u001b[39;00m:\n\u001b[1;32m     32\u001b[0m     \u001b[39mtry\u001b[39;00m:\n\u001b[0;32m---> 33\u001b[0m         response \u001b[39m=\u001b[39m \u001b[39msuper\u001b[39;49m()\u001b[39m.\u001b[39;49mcreate(\u001b[39m*\u001b[39;49margs, \u001b[39m*\u001b[39;49m\u001b[39m*\u001b[39;49mkwargs)\n\u001b[1;32m     35\u001b[0m         \u001b[39m# If a user specifies base64, we'll just return the encoded string.\u001b[39;00m\n\u001b[1;32m     36\u001b[0m         \u001b[39m# This is only for the default case.\u001b[39;00m\n\u001b[1;32m     37\u001b[0m         \u001b[39mif\u001b[39;00m \u001b[39mnot\u001b[39;00m user_provided_encoding_format:\n",
            "File \u001b[0;32m~/Documents/CODE/websitenearme/webnearme-venv/lib/python3.11/site-packages/openai/api_resources/abstract/engine_api_resource.py:153\u001b[0m, in \u001b[0;36mEngineAPIResource.create\u001b[0;34m(cls, api_key, api_base, api_type, request_id, api_version, organization, **params)\u001b[0m\n\u001b[1;32m    127\u001b[0m \u001b[39m@classmethod\u001b[39m\n\u001b[1;32m    128\u001b[0m \u001b[39mdef\u001b[39;00m \u001b[39mcreate\u001b[39m(\n\u001b[1;32m    129\u001b[0m     \u001b[39mcls\u001b[39m,\n\u001b[0;32m   (...)\u001b[0m\n\u001b[1;32m    136\u001b[0m     \u001b[39m*\u001b[39m\u001b[39m*\u001b[39mparams,\n\u001b[1;32m    137\u001b[0m ):\n\u001b[1;32m    138\u001b[0m     (\n\u001b[1;32m    139\u001b[0m         deployment_id,\n\u001b[1;32m    140\u001b[0m         engine,\n\u001b[0;32m   (...)\u001b[0m\n\u001b[1;32m    150\u001b[0m         api_key, api_base, api_type, api_version, organization, \u001b[39m*\u001b[39m\u001b[39m*\u001b[39mparams\n\u001b[1;32m    151\u001b[0m     )\n\u001b[0;32m--> 153\u001b[0m     response, _, api_key \u001b[39m=\u001b[39m requestor\u001b[39m.\u001b[39;49mrequest(\n\u001b[1;32m    154\u001b[0m         \u001b[39m\"\u001b[39;49m\u001b[39mpost\u001b[39;49m\u001b[39m\"\u001b[39;49m,\n\u001b[1;32m    155\u001b[0m         url,\n\u001b[1;32m    156\u001b[0m         params\u001b[39m=\u001b[39;49mparams,\n\u001b[1;32m    157\u001b[0m         headers\u001b[39m=\u001b[39;49mheaders,\n\u001b[1;32m    158\u001b[0m         stream\u001b[39m=\u001b[39;49mstream,\n\u001b[1;32m    159\u001b[0m         request_id\u001b[39m=\u001b[39;49mrequest_id,\n\u001b[1;32m    160\u001b[0m         request_timeout\u001b[39m=\u001b[39;49mrequest_timeout,\n\u001b[1;32m    161\u001b[0m     )\n\u001b[1;32m    163\u001b[0m     \u001b[39mif\u001b[39;00m stream:\n\u001b[1;32m    164\u001b[0m         \u001b[39m# must be an iterator\u001b[39;00m\n\u001b[1;32m    165\u001b[0m         \u001b[39massert\u001b[39;00m \u001b[39mnot\u001b[39;00m \u001b[39misinstance\u001b[39m(response, OpenAIResponse)\n",
            "File \u001b[0;32m~/Documents/CODE/websitenearme/webnearme-venv/lib/python3.11/site-packages/openai/api_requestor.py:298\u001b[0m, in \u001b[0;36mAPIRequestor.request\u001b[0;34m(self, method, url, params, headers, files, stream, request_id, request_timeout)\u001b[0m\n\u001b[1;32m    277\u001b[0m \u001b[39mdef\u001b[39;00m \u001b[39mrequest\u001b[39m(\n\u001b[1;32m    278\u001b[0m     \u001b[39mself\u001b[39m,\n\u001b[1;32m    279\u001b[0m     method,\n\u001b[0;32m   (...)\u001b[0m\n\u001b[1;32m    286\u001b[0m     request_timeout: Optional[Union[\u001b[39mfloat\u001b[39m, Tuple[\u001b[39mfloat\u001b[39m, \u001b[39mfloat\u001b[39m]]] \u001b[39m=\u001b[39m \u001b[39mNone\u001b[39;00m,\n\u001b[1;32m    287\u001b[0m ) \u001b[39m-\u001b[39m\u001b[39m>\u001b[39m Tuple[Union[OpenAIResponse, Iterator[OpenAIResponse]], \u001b[39mbool\u001b[39m, \u001b[39mstr\u001b[39m]:\n\u001b[1;32m    288\u001b[0m     result \u001b[39m=\u001b[39m \u001b[39mself\u001b[39m\u001b[39m.\u001b[39mrequest_raw(\n\u001b[1;32m    289\u001b[0m         method\u001b[39m.\u001b[39mlower(),\n\u001b[1;32m    290\u001b[0m         url,\n\u001b[0;32m   (...)\u001b[0m\n\u001b[1;32m    296\u001b[0m         request_timeout\u001b[39m=\u001b[39mrequest_timeout,\n\u001b[1;32m    297\u001b[0m     )\n\u001b[0;32m--> 298\u001b[0m     resp, got_stream \u001b[39m=\u001b[39m \u001b[39mself\u001b[39;49m\u001b[39m.\u001b[39;49m_interpret_response(result, stream)\n\u001b[1;32m    299\u001b[0m     \u001b[39mreturn\u001b[39;00m resp, got_stream, \u001b[39mself\u001b[39m\u001b[39m.\u001b[39mapi_key\n",
            "File \u001b[0;32m~/Documents/CODE/websitenearme/webnearme-venv/lib/python3.11/site-packages/openai/api_requestor.py:700\u001b[0m, in \u001b[0;36mAPIRequestor._interpret_response\u001b[0;34m(self, result, stream)\u001b[0m\n\u001b[1;32m    692\u001b[0m     \u001b[39mreturn\u001b[39;00m (\n\u001b[1;32m    693\u001b[0m         \u001b[39mself\u001b[39m\u001b[39m.\u001b[39m_interpret_response_line(\n\u001b[1;32m    694\u001b[0m             line, result\u001b[39m.\u001b[39mstatus_code, result\u001b[39m.\u001b[39mheaders, stream\u001b[39m=\u001b[39m\u001b[39mTrue\u001b[39;00m\n\u001b[1;32m    695\u001b[0m         )\n\u001b[1;32m    696\u001b[0m         \u001b[39mfor\u001b[39;00m line \u001b[39min\u001b[39;00m parse_stream(result\u001b[39m.\u001b[39miter_lines())\n\u001b[1;32m    697\u001b[0m     ), \u001b[39mTrue\u001b[39;00m\n\u001b[1;32m    698\u001b[0m \u001b[39melse\u001b[39;00m:\n\u001b[1;32m    699\u001b[0m     \u001b[39mreturn\u001b[39;00m (\n\u001b[0;32m--> 700\u001b[0m         \u001b[39mself\u001b[39;49m\u001b[39m.\u001b[39;49m_interpret_response_line(\n\u001b[1;32m    701\u001b[0m             result\u001b[39m.\u001b[39;49mcontent\u001b[39m.\u001b[39;49mdecode(\u001b[39m\"\u001b[39;49m\u001b[39mutf-8\u001b[39;49m\u001b[39m\"\u001b[39;49m),\n\u001b[1;32m    702\u001b[0m             result\u001b[39m.\u001b[39;49mstatus_code,\n\u001b[1;32m    703\u001b[0m             result\u001b[39m.\u001b[39;49mheaders,\n\u001b[1;32m    704\u001b[0m             stream\u001b[39m=\u001b[39;49m\u001b[39mFalse\u001b[39;49;00m,\n\u001b[1;32m    705\u001b[0m         ),\n\u001b[1;32m    706\u001b[0m         \u001b[39mFalse\u001b[39;00m,\n\u001b[1;32m    707\u001b[0m     )\n",
            "File \u001b[0;32m~/Documents/CODE/websitenearme/webnearme-venv/lib/python3.11/site-packages/openai/api_requestor.py:763\u001b[0m, in \u001b[0;36mAPIRequestor._interpret_response_line\u001b[0;34m(self, rbody, rcode, rheaders, stream)\u001b[0m\n\u001b[1;32m    761\u001b[0m stream_error \u001b[39m=\u001b[39m stream \u001b[39mand\u001b[39;00m \u001b[39m\"\u001b[39m\u001b[39merror\u001b[39m\u001b[39m\"\u001b[39m \u001b[39min\u001b[39;00m resp\u001b[39m.\u001b[39mdata\n\u001b[1;32m    762\u001b[0m \u001b[39mif\u001b[39;00m stream_error \u001b[39mor\u001b[39;00m \u001b[39mnot\u001b[39;00m \u001b[39m200\u001b[39m \u001b[39m<\u001b[39m\u001b[39m=\u001b[39m rcode \u001b[39m<\u001b[39m \u001b[39m300\u001b[39m:\n\u001b[0;32m--> 763\u001b[0m     \u001b[39mraise\u001b[39;00m \u001b[39mself\u001b[39m\u001b[39m.\u001b[39mhandle_error_response(\n\u001b[1;32m    764\u001b[0m         rbody, rcode, resp\u001b[39m.\u001b[39mdata, rheaders, stream_error\u001b[39m=\u001b[39mstream_error\n\u001b[1;32m    765\u001b[0m     )\n\u001b[1;32m    766\u001b[0m \u001b[39mreturn\u001b[39;00m resp\n",
            "\u001b[0;31mInvalidRequestError\u001b[0m: '$.input' is invalid. Please check the API reference: https://platform.openai.com/docs/api-reference."
          ]
        }
      ],
      "source": [
        "# create embeddings\n",
        "import openai\n",
        "\n",
        "openai.api_key = os.getenv('OPENAI_API_KEY')\n",
        "\n",
        "MODEL = \"text-embedding-ada-002\"\n",
        "\n",
        "res = openai.Embedding.create(\n",
        "    input=input_lst # must be a list\n",
        "    , engine=MODEL\n",
        ")\n",
        "\n",
        "# extract embeddings to a list\n",
        "embeds = [record['embedding'] for record in res['data']]\n"
      ]
    },
    {
      "cell_type": "code",
      "execution_count": null,
      "metadata": {},
      "outputs": [
        {
          "name": "stdout",
          "output_type": "stream",
          "text": [
            "[[-0.006369457580149174, -0.011372314766049385, 0.0011751734418794513, -0.012635905295610428, 0.006651018280535936, -0.005380560643970966, -0.008288878947496414, -0.021329956129193306, 9.689386934041977e-05, -0.01825338788330555, -0.00976535677909851, 0.026604073122143745, -0.008302613161504269, -0.0032791546545922756, 0.007224441505968571, 0.009669214487075806, 0.01995648816227913, -0.007008119951933622, 0.006990951951593161, -0.015657534822821617, -0.035270657390356064, 0.01731942966580391, -0.006153136491775513, 0.004669791087508202, -0.03705616295337677, -0.012526027858257294, -0.0031400909647345543, -0.007279380224645138, -0.008419358171522617, 0.01251916028559208, -0.003406200557947159, -0.005765131674706936, -0.017566654831171036, 0.004233714658766985, -0.002431038301438093, 0.023554975166916847, -0.002642208943143487, 0.014091781340539455, 0.03123266063630581, 0.004288653377443552, 0.026755155995488167, 0.02027238719165325, 0.008055388927459717, -0.00388004700653255, -0.03867685794830322, 0.0023503468837589025, -0.03290829062461853, -0.016097044572234154, -0.010218601673841476, -0.007306849583983421, -0.014860923402011395, 0.02315666899085045, -0.006812401115894318, 0.004882678389549255, -0.00800045020878315, 0.01400250568985939, 0.004487806465476751, 0.026755155995488167, 0.031177721917629242, -0.00043457382707856596, -0.00022576379706151783, 0.004669791087508202, -0.019654326140880585, -0.0018490311922505498, -0.041258975863456726, -0.008330082520842552, -0.0016155416378751397, 0.013913230039179325, -0.023651117458939552, -0.01690739020705223, 0.013020476326346397, 0.019901549443602562, -0.00931897945702076, -0.04595623537898064, 0.0310403760522604, 0.005068096797913313, -0.01317155733704567, -0.004896413069218397, -0.005181407555937767, 0.024008220061659813, 0.0263019111007452, -0.015932228416204453, -0.018514348194003105, 0.013707210309803486, 0.026961175724864006, 0.029172459617257118, -0.0002315581077709794, 0.018486877903342247, -0.0203410591930151, -0.011111355386674404, 0.013480587862432003, 0.0026507931761443615, 0.015176820568740368, 0.025601442903280258, -0.014531291089951992, 0.007286247331649065, -0.036946285516023636, 0.03568269684910774, -0.02028612047433853, -0.008687184192240238, 0.009250306524336338, 0.004480938892811537, -0.03799012303352356, -0.016591493040323257, 0.006372891366481781, 0.0315348245203495, 0.021178875118494034, -0.014380209147930145, -0.0082820113748312, 0.008165266364812851, -0.013947566971182823, 0.023431362584233284, -0.006362590007483959, -0.008055388927459717, 0.01935216225683689, -0.005002856720238924, 0.03202927112579346, -0.001749454764649272, -0.005545376800000668, -0.027867663651704788, 0.0124230170622468, 0.020739365369081497, 0.02667274698615074, 0.01166761014610529, 0.029557030647993088, 0.008240807801485062, -0.007196972146630287, -0.011578334495425224, 0.025711320340633392, -0.010479560121893883, -0.017621593549847603, -0.0076502165757119656, 0.029254866763949394, 0.01995648816227913, -0.02930980548262596, 0.029639437794685364, -0.03222155570983887, 0.015437779948115349, -0.02538168802857399, -0.02387087233364582, 0.019668061286211014, 0.025519033893942833, 0.008391888812184334, 0.02292317897081375, 0.01071305014193058, 0.03680894151329994, -0.005871575325727463, -0.007299982011318207, 0.008955011144280434, -0.007444196380674839, 0.007519736886024475, 8.85242989170365e-05, -0.0021649287082254887, 0.03991297632455826, 0.02690623700618744, -0.0036671594716608524, 0.0006352289346978068, 0.01297240424901247, 0.012677108868956566, -0.01420165877789259, -0.0053496574983000755, 0.03972069174051285, 0.005167672876268625, -0.004525576718151569, 0.01863795891404152, 0.012471089139580727, 0.027895133942365646, 0.0061874729581177235, -0.003941853065043688, -0.022703424096107483, -0.00846742931753397, 0.012162058614194393, -0.034254290163517, 0.01165387500077486, 0.005421764682978392, 0.007457931060343981, -0.01156460028141737, -0.007938644848763943, -0.021906813606619835, -0.020547080785036087, 0.00625958014279604, 0.0011837576748803258, -0.01418792363256216, 0.018322061747312546, 0.0008712937124073505, -0.007368655409663916, -0.006510238163173199, -0.0077738286927342415, 0.01733316481113434, -0.007409859448671341, 0.0024859770201146603, 0.02142610028386116, 0.012855660170316696, 0.003756434889510274, -0.6175111532211304, -0.011530263349413872, 0.009044285863637924, -0.023637382313609123, 0.003025063080713153, 0.015877289697527885, 0.020052632316946983, -0.004329857416450977, -0.018555551767349243, 0.028073685243725777, -0.011310508474707603, -0.011509661562740803, -0.018129777163267136, 0.00017050316091626883, -0.007972980849444866, -0.016220655292272568, 0.01390636246651411, -0.028485724702477455, -0.00948379561305046, 0.004625153262168169, 0.009332714602351189, 0.0028997340705245733, -0.016811247915029526, 0.010397152043879032, -0.013947566971182823, -0.020244916900992393, -0.01595969684422016, -0.0010944822570309043, 0.0010197999654337764, 0.010623774491250515, 0.006101631093770266, 0.023225342854857445, 0.016124513000249863, -0.00939452089369297, 0.04548925906419754, -0.0011468457523733377, -0.008027919568121433, 0.012409282848238945, 0.006836436688899994, 0.02503832057118416, -0.035792574286460876, -0.019613122567534447, -0.0033770143054425716, 0.006317952647805214, 0.0015365672297775745, -0.0021340257953852415, 0.011118222959339619, 0.005734228529036045, -0.036204613745212555, 0.0033100578002631664, 0.009902703575789928, 0.0018215618329122663, -0.015685003250837326, -0.019599387422204018, 0.02071189694106579, -0.005899044685065746, 0.01670137047767639, -0.022840771824121475, 0.005002856720238924, 0.003763302229344845, 0.014146720059216022, 0.0039384192787110806, -0.02745562419295311, -0.023994484916329384, -0.022126568481326103, -0.0008086292655207217, 0.002151194028556347, 0.003509210655465722, 0.009545601904392242, 0.0018387301824986935, 0.04073705896735191, 0.002015564125031233, -0.009971377439796925, -0.005940248724073172, 0.006084463093429804, 0.012848792597651482, 0.030518457293510437, 0.0007300840225070715, -0.038072530180215836, 0.01418792363256216, 0.007402992341667414, 0.010726784355938435, -0.005284417886286974, -0.029639437794685364, 0.018500613048672676, -0.032661065459251404, -0.010589437559247017, -0.029392214491963387, 0.004511842038482428, 0.023980749770998955, 0.028678011149168015, 0.03722098097205162, -0.026810094714164734, -0.007320584263652563, -0.023582443594932556, -0.010287274606525898, -0.009421990253031254, 0.026617808267474174, 0.024186769500374794, -0.032468780875205994, -0.00044508944847621024, 0.0004502399533521384, 0.037715427577495575, 0.03705616295337677, 0.0402151420712471, 0.010294142179191113, -0.027002379298210144, 0.0013271133648231626, 0.03532559424638748, -0.014586229808628559, 0.007931777276098728, 0.00597458565607667, -0.018294593319296837, -0.018555551767349243, -0.0029100351966917515, -0.02068442665040493, 0.006499936804175377, -0.026768889278173447, 0.008659714832901955, -0.017154613509774208, -0.00892754178494215, -0.01807483844459057, 0.008625378832221031, -0.030875559896230698, 0.025642646476626396, 0.008323215879499912, -0.021687058731913567, -0.012608435936272144, 0.014847188256680965, -0.0167288389056921, 0.00014238999574445188, -0.010555100627243519, 0.006482768803834915, -0.018157245591282845, 0.016261860728263855, -0.01091906987130642, 0.0172919612377882, 0.008350685238838196, 0.00826140958815813, -0.029666908085346222, -0.012210129760205746, 0.0017374369781464338, 0.02126128412783146, -0.01902252994477749, -0.006032957695424557, -0.018528081476688385, 0.0003487320791464299, 0.02010757103562355, 0.00652740616351366, 0.014256597496569157, 0.012876261956989765, 0.0034954759757965803, 0.0022988419514149427, 0.006795232649892569, -0.0008987630717456341, -0.01898132637143135, -0.007677685935050249, -0.016330532729625702, -0.019050000235438347, -0.013782750815153122, 0.018500613048672676, 0.020395997911691666, -0.007018421310931444, 0.0042405822314321995, -0.021728262305259705, 0.009126693941652775, 0.005665555130690336, 0.018170980736613274, -0.02634311467409134, -0.0312051922082901, 0.020959120243787766, -0.003308340907096863, -0.0015236909966915846, 0.023362688720226288, 0.008144664578139782, 0.005057795438915491, -0.012711445800960064, 0.011537130922079086, -0.006386626046150923, 0.0035813176073133945, -0.0008382446249015629, 0.03925371170043945, 0.0035950522869825363, -0.006733426358550787, 0.027524298056960106, 0.014805984683334827, 0.001977793872356415, 0.014339005574584007, -0.03222155570983887, 0.015163086354732513, -0.001977793872356415, 0.032468780875205994, 0.009511264972388744, 0.024873504415154457, 0.007952379062771797, 0.007828767411410809, 0.0002118145057465881, 0.017923755571246147, -0.0009777374798431993, -0.006489635910838842, 0.020917916670441628, 0.03403453528881073, 0.010472692549228668, 0.02027238719165325, 0.0055110398679971695, -0.028458256274461746, 0.014915862120687962, -0.011811824515461922, 0.020464671775698662, 0.0008841700037010014, 0.02102779410779476, 0.002966690808534622, 0.003164126770570874, -0.018569286912679672, 0.03230396658182144, -0.0016249842010438442, 0.003246534848585725, 0.004601117689162493, -0.012374945916235447, 0.009840897284448147, 0.014819718897342682, 0.002187247620895505, -0.0007343761390075088, -0.02351377159357071, 0.0007442479254677892, 0.009373918175697327, -0.0051333364099264145, 0.017168348655104637, 0.016687635332345963, -0.032413844019174576, -0.0014979384141042829, 0.014091781340539455, 0.009373918175697327, -0.015259228646755219, 0.02781272493302822, 0.024736156687140465, 0.016632696613669395, -0.015657534822821617, 0.020354794338345528, 0.0160009004175663, 0.0042783524841070175, 0.001343423267826438, 0.010754253715276718, -0.03480367735028267, 0.003375297412276268, -0.006335120648145676, 0.024763626977801323, -0.004158174153417349, -0.008137797005474567, 0.015561391599476337, -0.012855660170316696, 0.007121431175619364, 0.0006648442940786481, -0.007251910865306854, 0.029584499076008797, -0.009607408195734024, 0.00817900151014328, 0.010005713440477848, -0.002765821060165763, 0.01166761014610529, 0.015904758125543594, -0.01674257405102253, 0.0124230170622468, 0.009538734331727028, -0.009559337049722672, -0.004058597609400749, -0.0013957867631688714, 0.0034216518979519606, -0.0005004573613405228, -0.009044285863637924, -0.002223301213234663, -0.02253860794007778, 1.6363583199563436e-06, -0.01972300000488758, 0.018363265320658684, 0.004329857416450977, -0.021934282034635544, 0.016069574281573296, 0.009621142409741879, 0.02447519823908806, -0.026260707527399063, -0.025532769039273262, 0.014531291089951992, -0.022071629762649536, -0.009943908080458641, -0.018308326601982117, 0.020189978182315826, -0.003382164752110839, 0.018294593319296837, 0.01560259610414505, -0.018747836351394653, 0.0007300840225070715, -0.0171271450817585, 0.005147071089595556, -0.0023572142235934734, -0.005572846159338951, 0.04307195544242859, -0.009257174097001553, -0.0074922675266861916, -0.061751119792461395, 0.025876136496663094, 0.0064209625124931335, -0.04771427437663078, -0.026768889278173447, 0.016138248145580292, -0.0023125766310840845, -0.03274347633123398, -0.01595969684422016, 0.006558309309184551, -0.019983958452939987, 0.006767763290554285, -0.008110327646136284, -0.009504398331046104, 0.009154163300991058, 0.03455645218491554, -0.007196972146630287, 0.0002667532244231552, -0.029859192669391632, 0.010603172704577446, 0.029776785522699356, -0.0006330828764475882, 0.01091906987130642, -0.026013482362031937, -0.0017992430366575718, 0.05040627345442772, 0.0151218818500638, 0.022442465648055077, 0.019613122567534447, -0.003910949919372797, 0.0021820971742272377, -0.032468780875205994, -0.013089149259030819, -0.004717862233519554, 0.0034834579564630985, -0.021398629993200302, 0.020533345639705658, 0.00644156476482749, -0.008062256500124931, 0.017827613279223442, 0.0075609409250319, 0.0074716657400131226, -0.024900972843170166, 0.006142835132777691, 0.021700793877243996, -0.015259228646755219, -0.004353893455117941, 0.02952956035733223, 0.015190555714070797, 0.014160454273223877, 0.01844567432999611, 0.01694859378039837, 0.030683273449540138, -0.009566203691065311, -0.01936589740216732, -0.0038697458803653717, 0.010465825907886028, 0.008130930364131927, 0.018555551767349243, -0.006973783485591412, 0.014627433381974697, -0.00911295972764492, 0.010081254877150059, -0.0009648612467572093, -0.006846737582236528, 0.019324693828821182, 0.042412690818309784, -0.02028612047433853, -0.019077468663454056, 0.00287054805085063, -0.04136885330080986, 0.00023756703012622893, 0.014229128137230873, -0.013377577997744083, -0.026370584964752197, -0.0022816734854131937, 0.020629487931728363, -0.03307310864329338, -0.006815834436565638, 0.007698287721723318, 0.0039384192787110806, 0.011729416437447071, -0.019805407151579857, -0.025683850049972534, -0.04312689229846001, -0.00022769522911403328, -0.03455645218491554, 0.03315551578998566, 0.005280984099954367, -0.02350003644824028, -0.022099098190665245, 0.00017340033082291484, 0.00639349315315485, -0.015451514162123203, -0.004934183321893215, 0.009188500232994556, -0.04172595590353012, -0.0036980623845010996, -0.0020172810181975365, -0.009064888581633568, -0.016248125582933426, 0.0038319756276905537, 0.009971377439796925, 0.03043605014681816, 0.04227534309029579, -0.006039825268089771, -0.02483230084180832, 0.008790194988250732, -0.039555877447128296, -0.018569286912679672, -0.00940138753503561, -5.456315921037458e-05, -0.016303064301609993, 0.01155086513608694, 0.0002631049428600818, -0.006606380920857191, -0.012828190810978413, 0.02748309262096882, 0.005747963208705187, 0.02384340390563011, -0.004127271007746458, 0.0032619864214211702, 0.018170980736613274, 0.008014185354113579, 0.003449121257290244, -0.019269755110144615, -0.016138248145580292, -0.013714076951146126, -0.03840216249227524, 0.031315069645643234, 0.004000225104391575, 0.02425544336438179, 0.003342677606269717, -0.007396124769002199, -0.02367858774960041, 0.009634877555072308, -0.0031126216053962708, 0.016083309426903725, 0.0035950522869825363, 0.019681794568896294, -0.011907966807484627, 0.007677685935050249, -0.0011313941795378923, -0.005177974235266447, -0.005184841342270374, 0.008481164462864399, -0.05878442898392677, 0.01976420357823372, 0.020547080785036087, -0.02108273282647133, -0.008398756384849548, 0.01709967479109764, -0.01880277507007122, 0.0036362563259899616, 0.010438356548547745, -0.0172919612377882, -0.0008429659646935761, -0.024365320801734924, -0.020354794338345528, 0.002413869835436344, -0.05246647447347641, -0.010507029481232166, -0.0040448629297316074, -0.019887816160917282, 0.00046268702135421336, -0.018926387652754784, -0.001194917131215334, 0.0030216295272111893, 0.0013897778699174523, 0.026260707527399063, -0.03422681987285614, 0.011125090532004833, -0.015108147636055946, 0.006874206941574812, 0.016110777854919434, -0.002667961409315467, 0.02351377159357071, -0.04774174466729164, -0.007629614323377609, 0.0010987743735313416, -0.02763417549431324, 0.010980876162648201, 0.018473142758011818, 0.016275594010949135, 0.017731470987200737, 0.029969070106744766, 0.015259228646755219, -0.004965086467564106, 0.0030525324400514364, 0.01579488068819046, 0.006479335017502308, 0.02145356871187687, -0.001700524939224124, 0.017758939415216446, -0.02315666899085045, 0.006688788998872042, 0.04356640204787254, 0.0060260905884206295, -0.010191132314503193, 0.0044740717858076096, 0.01822591945528984, -0.010500161908566952, -0.010191132314503193, -0.025477830320596695, -0.015478983521461487, 0.016248125582933426, 0.0221952423453331, -0.011756885796785355, -0.00903055164963007, -0.023280281573534012, -0.009202235378324986, 0.03257865831255913, -3.347828169353306e-05, 0.019654326140880585, 0.014242862351238728, 0.02181067131459713, -0.012258200906217098, 0.02404942363500595, 0.015547657385468483, -0.010568835772573948, -0.008371287025511265, -0.014160454273223877, -0.03513330966234207, -0.0016533120069652796, -0.010081254877150059, 0.01936589740216732, 0.017168348655104637, 0.010232335887849331, 0.027318276464939117, -0.0025357650592923164, -0.002151194028556347, -0.008405623957514763, -0.03367743268609047, -0.011921701952815056, 0.00714203342795372, 0.003294606227427721, -0.03645183891057968, -0.004803704097867012, -0.024955911561846733, -0.021522242575883865, 0.004745331592857838, 0.0009837463730946183, 0.009703550487756729, -0.009305245243012905, -0.0047934032045304775, 0.03139747679233551, -0.03043605014681816, 0.03142494708299637, 0.0077600940130651, 0.049527253955602646, 0.054224513471126556, 0.030710743740200996, -0.00587500911206007, -0.005425198469310999, 0.004161607939749956, 0.02461254596710205, 0.02593107521533966, 0.035270657390356064, -0.023609913885593414, 0.0033770143054425716, 0.012024711817502975, 0.004927316214889288, -0.035298123955726624, -0.03235890343785286, 0.010136193595826626, 0.00883139856159687, -0.0031572594307363033, -0.01953071355819702, -0.006177172064781189, 0.016303064301609993, 0.03293576091527939, -0.007464798167347908, 0.016509084030985832, 0.00258727022446692, -0.022236445918679237, -0.019489509984850883, 0.024145565927028656, 0.0004785677301697433, 0.025807462632656097, 0.020917916670441628, 0.008481164462864399, 0.011502793990075588, 0.0051711066626012325, 0.0004901563515886664, 0.008426225744187832, 0.0205058753490448, 0.02652166597545147, -0.024118097499012947, 0.012670241296291351, 0.01457249466329813, 0.0004944484680891037, -0.026961175724864006, -0.003684327704831958, 0.01582235097885132, 0.023225342854857445, -0.027139727026224136, -0.0038869143463671207, 0.005119601730257273, -0.006067294627428055, 0.006105064880102873, -0.005758264102041721, -0.014462617225944996, 0.016976064071059227, -0.061201732605695724, 0.0014816285111010075, 0.006932579446583986, 0.020725630223751068, -0.01108388602733612, 0.013020476326346397, -0.0031915961299091578, -0.016261860728263855, 0.011681344360113144, -0.009428856894373894, 0.0405447743833065, -0.004168475046753883, -0.003164126770570874, 0.023403894156217575, -0.006194340530782938, -0.008762725628912449, 0.0042783524841070175, -0.013130353763699532, 0.0056895907036960125, 0.015739941969513893, -0.022840771824121475, 0.007890572771430016, 0.03354008495807648, 0.01615198329091072, -0.00976535677909851, 0.014160454273223877, -0.01597343198955059, 0.0026336247101426125, -0.005569412373006344, -0.02690623700618744, -0.033952128142118454, -0.009058021008968353, 0.001453300705179572, -0.011708813719451427, 0.012203262187540531, -0.0034748739562928677, 0.04073705896735191, 0.0056895907036960125, 0.012574099004268646, 0.0013399895979091525, -0.028540663421154022, 0.008124062791466713, -0.002106556436046958, -0.028238501399755478, 0.0361771434545517, -0.008893204852938652, 0.009772224351763725, -0.017635328695178032, 0.023390159010887146, 0.01976420357823372, -0.03222155570983887, -0.016399206593632698, 0.005167672876268625, 0.016454145312309265, -0.015575126744806767, -0.02013503946363926, -0.03332033008337021, -0.021535977721214294, -0.018706632778048515, 0.0036053534131497145, -0.012354344129562378, -0.019269755110144615, -0.00418907729908824, 0.007636481896042824, 0.008522368036210537, -0.018926387652754784, -0.01578114554286003, -0.01156460028141737, -0.031122783198952675, 0.014998270198702812, -0.013391312211751938, 0.002118574222549796, -0.0017906588036566973, 0.06933265924453735, 0.008515501394867897, -0.029859192669391632, -0.01844567432999611, -0.030216295272111893, -0.06444311141967773, 0.01353552658110857, -0.011420385912060738, 0.027510562911629677, 0.012924333103001118, 0.024021953344345093, 0.014558760449290276, 0.016509084030985832, 0.006283615715801716, 0.02406315878033638, -0.040325019508600235, 0.03332033008337021, 0.0007721465080976486, 0.00587500911206007, -0.010005713440477848, 0.004944484680891037, -0.02930980548262596, -0.0037598684430122375, 0.009758489206433296, 0.022648485377430916, 0.006283615715801716, 0.017621593549847603, -0.01063064206391573, -0.015286698006093502, 0.021096467971801758, -0.009902703575789928, 0.005243213847279549, 0.004532444290816784, 0.02936474420130253, -0.03837469220161438, 0.0029958768282085657, -0.02273089438676834, -0.008886337280273438, -0.025807462632656097, -0.022140303626656532, 0.009634877555072308, 0.0011416951892897487, -0.013679740950465202, -0.013164689764380455, 0.011145692318677902, -0.009559337049722672, -0.0016352852107957006, 0.01973673328757286, 0.006352289114147425, 0.005456101149320602, 0.01410551555454731, -0.004364194348454475, -0.029392214491963387, -0.004340158775448799, 0.011784355156123638, -0.01877530664205551, -0.012196395546197891, 0.015932228416204453, -0.04947231337428093, 0.0022336021065711975, -0.030353641137480736, 0.01766279712319374, -0.016165716573596, -0.018651694059371948, -0.015904758125543594, 0.03370490297675133, -0.02930980548262596, 0.009827163070440292, 0.020368529483675957, -0.020203713327646255, 0.0018215618329122663, -0.013199026696383953, 0.017154613509774208, -0.026631543412804604, -0.007512869779020548, 0.0009021967416629195, -0.023925811052322388, -0.01597343198955059, 0.01677004247903824, 0.0025958544574677944, -0.048071376979351044, 0.02539542131125927, 0.02859560213983059, -0.005548810586333275, 0.02086297795176506, 0.2084374874830246, -0.0015065226471051574, -0.005717060063034296, 0.03664412349462509, 0.021137671545147896, -0.002340045990422368, 0.018129777163267136, 0.019297223538160324, 0.009744754992425442, 0.006414095405489206, -0.007073360029608011, 0.00892754178494215, -0.034116942435503006, -0.0031744276639074087, 0.001077313907444477, -0.010115590877830982, -0.017731470987200737, -0.03760555014014244, -0.009806561283767223, 0.03183698654174805, 0.014737310819327831, -0.007876838557422161, -0.028870295733213425, -0.02804621495306492, 0.0024739590007811785, -0.006699089892208576, -0.024873504415154457, -0.003265419974923134, -0.0010292425286024809, 0.0036911950446665287, -0.002394984709098935, 0.014792249538004398, 0.006894809193909168, 0.01918734610080719, -0.0015159652102738619, -0.0004021685745101422, 0.019819142296910286, -0.0025598008651286364, 0.0176902674138546, 0.019709264859557152, 0.0058681415393948555, 0.01657775789499283, -0.0005614050314761698, -0.018926387652754784, -0.0024842601269483566, -0.019805407151579857, -0.008659714832901955, -0.026040952652692795, 0.009277775883674622, 0.017140880227088928, -0.0067025236785411835, -0.007739491760730743, 0.023925811052322388, 0.020025162026286125, -0.00921596959233284, 0.008865735493600368, -0.01953071355819702, -0.008769592270255089, 0.004007092677056789, 0.01975046843290329, 0.002439622301608324, 0.013384444639086723, 0.000745535537134856, 0.0029151856433600187, -0.01708594150841236, -0.009923305362462997, -0.003948720172047615, 0.0007459647604264319, -0.009751622565090656, 0.01063064206391573, -0.014160454273223877, -0.007032155990600586, -0.015685003250837326, -0.020794304087758064, -0.010012581013143063, -0.021371161565184593, 0.016248125582933426, 0.03889661282300949, 0.01957191713154316, 0.029996540397405624, 0.014517555944621563, 0.0062252432107925415, 0.016481615602970123, -0.005064663011580706, 0.030408579856157303, -0.0042028119787573814, 0.03606726601719856, -0.004364194348454475, -0.008680317550897598, -0.0004390805261209607, 0.011475324630737305, -0.008433093316853046, -0.010582569986581802, -0.00574109610170126, -0.005675856024026871, 0.008721521124243736, 0.037166040390729904, 0.01991528458893299, -0.028320908546447754, 0.010465825907886028, 0.015685003250837326, 0.04348399490118027, 0.013034210540354252, 0.02387087233364582, -0.010273540392518044, -0.026068421080708504, -0.010280407033860683, 0.023252811282873154, 0.014476352371275425, 0.001804393483325839, -0.018500613048672676, -0.00854297075420618, 0.018926387652754784, -0.01195603795349598, 0.006606380920857191, 0.0006219234201125801, -0.00854983739554882, -0.021906813606619835, -0.005634651985019445, -0.004566780757158995, 0.0009133561979979277, -0.003189879236742854, -0.004783101845532656, 0.0088451337069273, -0.02297811768949032, -0.018912652507424355, -0.019324693828821182, -0.011035814881324768, -0.02051961049437523, -0.027373215183615685, 0.008021052926778793, -0.01677004247903824, 0.0060260905884206295, 0.00427491869777441, -0.00016470885020680726, -0.005596881732344627, 0.03408947214484215, -0.012258200906217098, -0.012175792828202248, 0.006087896414101124, 0.007622747216373682, 0.030353641137480736, 0.005246647633612156, -0.006414095405489206, 0.016248125582933426, -0.013789618387818336, 0.021535977721214294, 0.02068442665040493, -0.008652848191559315, -0.006194340530782938, -0.04592876881361008, 0.010925937443971634, 0.005387427750974894, 0.0007554073818027973, 0.02332148514688015, 0.0013005024520680308, -0.02652166597545147, -0.038072530180215836, 0.00577543256804347, -0.0025632344186306, -0.05658688023686409, -0.01657775789499283, 0.014709841459989548, -0.0013391312677413225, -0.03799012303352356, -0.03216661885380745, -0.1753643900156021, 0.01992901973426342, 0.030930498614907265, -0.002489410573616624, -0.0022954081650823355, 0.009648611769080162, -0.008975612930953503, -0.008117195218801498, 0.012910598888993263, -0.019626855850219727, -0.014256597496569157, -0.03782530501484871, -0.017717735841870308, -0.008227072656154633, 0.017003532499074936, 0.00610849866643548, 0.005188275128602982, 0.03323792293667793, 0.022524874657392502, -0.009772224351763725, 0.020395997911691666, -0.019997693598270416, 0.017031002789735794, -0.0037907715886831284, 0.031315069645643234, 0.009353316389024258, -0.01709967479109764, 0.023774730041623116, 0.002649076282978058, -0.0410117506980896, -0.02648046240210533, -0.002223301213234663, -0.00616000359877944, 0.007045890670269728, 0.005387427750974894, -0.009174766018986702, 0.024557607248425484, 0.020025162026286125, -0.011784355156123638, 0.024914707988500595, 0.034501515328884125, 0.024585075676441193, -0.013411913998425007, -0.010706182569265366, -0.007698287721723318, 0.0030525324400514364, 0.018129777163267136, -0.018116042017936707, -0.009827163070440292, 0.01249855849891901, 0.019434571266174316, -0.009442592039704323, 0.026013482362031937, -0.009291510097682476, 0.014998270198702812, 0.006458732765167952, 0.009270908311009407, -0.0011013495968654752, 0.01221699733287096, 0.012656507082283497, 0.0056861573830246925, -0.005624351091682911, 0.010294142179191113, -0.00574109610170126, -0.012608435936272144, -0.018473142758011818, -0.033567555248737335, 0.007014987524598837, -0.009257174097001553, 0.02366485260426998, 0.020835507661104202, -0.00010547804413363338, 0.01373467966914177, -0.008323215879499912, 0.0016910823760554194, -0.011743150651454926, -0.013583597727119923, -0.02275836281478405, 0.023239078000187874, -0.003035364206880331, -0.015932228416204453, 0.017237022519111633, -0.013480587862432003, 0.019695529714226723, -0.018706632778048515, -0.004484372679144144, 0.03139747679233551, 0.004408832173794508, -0.013521791435778141, 0.004844908136874437, -0.01286939438432455, -0.0043161227367818356, 0.0038869143463671207, 0.009772224351763725, -0.014847188256680965, 0.013466852717101574, 0.02782646007835865, -0.0005103291478008032, 0.0064037940464913845, 0.0013889194233343005, -0.0005412321770563722, 0.0051505048759281635, -0.01878904178738594, -0.007602144964039326, 0.03406200557947159, -0.0013382728211581707, 0.019448306411504745, 0.015643799677491188, 0.009669214487075806, -0.016989797353744507, -0.02556023746728897, 0.02102779410779476, 0.014627433381974697, 0.020931651815772057, -0.021014058962464333, 0.03573763370513916, -0.0030096115078777075, -0.007691420614719391, 0.01582235097885132, 0.004388229921460152, 0.015932228416204453, 0.00901681650429964, -0.015588860958814621, 0.023554975166916847, -0.008955011144280434, -0.008508633822202682, -0.07136539369821548, -0.015616330318152905, 0.013604199513792992, 0.024021953344345093, -0.017017267644405365, 0.004165041260421276, -0.015355371870100498, 0.04480252414941788, -0.0028156093321740627, 0.017649061977863312, -0.02426917850971222, -0.022263914346694946, -0.020052632316946983, -0.0027211832348257303, 0.026576604694128036, 0.007148900534957647, 0.003983057104051113, -0.005940248724073172, -0.021741997450590134, 0.014778515323996544, 0.014380209147930145, -0.00988210178911686, -0.008714653551578522, -0.045599136501550674, -0.002470525447279215, -0.01804736815392971, -0.03612220659852028, 0.007945511490106583, 0.01804736815392971, 0.010369682684540749, 0.005991753656417131, -0.02837584726512432, 0.01250542514026165, -0.018679164350032806, -0.0017820746870711446, -9.844975284067914e-05, -0.028705479577183723, -0.02724960446357727, 0.0019108372507616878, -0.026974910870194435, -0.010960274375975132, -0.019214816391468048, -0.009058021008968353, -0.032633598893880844, -0.019310958683490753, -0.00574109610170126, 0.03914383426308632, -0.00686047226190567, -0.021137671545147896, -0.03315551578998566, -0.004408832173794508, -0.020588284358382225, -0.007938644848763943, -0.03851203992962837, 0.03274347633123398, 0.0021014059893786907, -0.00037834749673493207, -0.005438933148980141, 0.00582350417971611, -0.008069124072790146, -0.0068810745142400265, -0.0151218818500638, -0.04496733844280243, 0.01089846808463335, 0.03062833473086357, -0.007972980849444866, -0.010108724236488342, 0.004398530814796686, 0.01637173816561699, -0.023417627438902855, 0.0017958093667402864, 0.01880277507007122, -0.012635905295610428, 0.034116942435503006, -0.03870432451367378, 0.002413869835436344, 0.005960850976407528, -0.030133886262774467, 0.024681217968463898, 0.02371979132294655, -0.02102779410779476, -0.027112256735563278, -0.0044740717858076096, -0.02086297795176506, -0.016275594010949135, -0.019420836120843887, 0.005504172760993242, -0.009888969361782074, -0.01975046843290329, -0.055021125823259354, 0.025519033893942833, 0.012752649374306202, 0.017223287373781204, 0.0016421525506302714, 0.016028370708227158, -0.004532444290816784, -0.026246972382068634, -0.013494322076439857, 0.007691420614719391, 0.016206922009587288, -0.02086297795176506, -0.0165640227496624, -0.07246416807174683, 0.011907966807484627, -0.01138604898005724, -0.004748765379190445, 0.012450486421585083, -0.006238977890461683, -0.0029460887890309095, -0.03477620705962181, -0.014380209147930145, 0.0066750543192029, -0.022634752094745636, 0.017429307103157043, -0.040325019508600235, -0.0315348245203495, -0.018006164580583572, 0.015478983521461487, 0.028073685243725777, -0.018308326601982117, 0.00747853284701705, -0.0023640815634280443, 0.013137220405042171, 0.0037530011031776667, 0.01844567432999611, 0.018170980736613274, -0.015094412490725517, 0.0062424116767942905, -0.01637173816561699, 0.016097044572234154, 0.017264490947127342, -0.027908869087696075, 0.0012421300634741783, -0.039198774844408035, -0.0009185067028738558, -0.004748765379190445, -0.007001252844929695, -0.02483230084180832, -0.01807483844459057, 0.0068639060482382774, -0.013480587862432003, -0.000289501273073256, -0.034501515328884125, -0.013096016831696033, 0.0055282083339989185, -0.02216777205467224, -0.026604073122143745, 0.001428406685590744, 0.0008755858289077878, 0.006915410980582237, 0.017813878133893013, 0.008865735493600368, 0.021110201254487038, 0.016083309426903725, -0.021577181294560432, -0.009195367805659771, -0.027689114212989807, -0.014970800839364529, 0.017923755571246147, -0.013549260795116425, 0.02554650418460369, -0.00039272598223760724, 0.028650540858507156, 0.023554975166916847, -0.016866186633706093, -0.007306849583983421, 0.004230281338095665, 0.01297240424901247, 0.0036671594716608524, -0.00016578186478000134, -0.0017271359683945775, -0.036781471222639084, -0.010788590647280216, 0.0007442479254677892, -0.005476703401654959, 0.010060652159154415, 0.013178424909710884, 0.010115590877830982, 0.00450840825214982, 0.006826135795563459, -0.044088318943977356, 0.01550645288079977, 0.017154613509774208, -0.016303064301609993, -0.007231308612972498, 0.0008459704113192856, 0.01826712302863598, 0.011379181407392025, -0.0012077933643013239, -0.019983958452939987, -0.0031915961299091578, -0.008069124072790146, -0.027977541089057922, -0.009264040738344193, -0.011228100396692753, 0.009731019847095013, 0.031177721917629242, -0.002801874652504921, 0.0008180718286894262, -0.004501541145145893, 0.008783327415585518, 0.010877866297960281, 0.04309942200779915, -0.0009408255573362112, -0.01674257405102253, 0.0017022418323904276, 0.0035881849471479654, 0.0006498220027424395, -0.007856236770749092, -0.010987743735313416, 0.011866763234138489, 0.008955011144280434, -0.0039590210653841496, 0.03268853574991226, 0.014847188256680965, 0.021769465878605843, -0.026178298518061638, 0.035847511142492294, -0.003787337802350521, -0.0062046414241194725, -0.0379626527428627, 0.04142379388213158, -0.017580389976501465, 0.009058021008968353, 0.005936814937740564, -0.04647815600037575, 0.05337296426296234, 0.020189978182315826, -0.0032619864214211702, -0.017017267644405365, -0.014627433381974697, 0.001970926532521844, -0.024928443133831024, -0.011722548864781857, -0.020533345639705658, -0.018761571496725082, -0.03444657474756241, -0.0013099450152367353, -0.02274462953209877, 0.020547080785036087, 0.002175229834392667, 0.09004455804824829, 0.038457103073596954, 0.009689816273748875, 0.02744188904762268, -0.013226496055722237, -0.0171271450817585, -0.009566203691065311, 0.0066750543192029, -0.016110777854919434, -0.02014877460896969, -0.0035950522869825363, 0.0023812500294297934, 0.011928568594157696, -0.003866312326863408, -0.012574099004268646, -0.0263019111007452, -0.006699089892208576, 0.04282473027706146, -0.01958565227687359, -0.01598716713488102, 0.029941601678729057, 0.013082281686365604, 0.009490663185715675, 0.016042105853557587, -0.0029426550026983023, 0.007533471565693617, 0.0011142258299514651, 0.0032190654892474413, -0.03332033008337021, -0.03436416760087013, -0.006283615715801716, 0.009078622795641422, -0.03812747076153755, -0.014860923402011395, -0.001996678998693824, -0.006929145660251379, -0.02197548747062683, -0.006764329504221678, -0.0013211044715717435, 0.004989122040569782, 0.015204289928078651, 0.015739941969513893, -0.015204289928078651, -0.0030199126340448856, -0.02031359076499939, 0.0104520907625556, -0.033787310123443604, -0.01807483844459057, -0.02615083009004593]]\n"
          ]
        }
      ],
      "source": [
        "print((embeds))"
      ]
    },
    {
      "cell_type": "code",
      "execution_count": null,
      "metadata": {},
      "outputs": [],
      "source": [
        "index.upsert()"
      ]
    },
    {
      "cell_type": "code",
      "execution_count": null,
      "metadata": {},
      "outputs": [],
      "source": []
    },
    {
      "cell_type": "code",
      "execution_count": null,
      "metadata": {},
      "outputs": [],
      "source": []
    },
    {
      "cell_type": "code",
      "execution_count": null,
      "metadata": {},
      "outputs": [],
      "source": []
    },
    {
      "cell_type": "code",
      "execution_count": null,
      "metadata": {},
      "outputs": [],
      "source": []
    },
    {
      "cell_type": "code",
      "execution_count": null,
      "metadata": {
        "id": "cCXVuXwPNKcc"
      },
      "outputs": [
        {
          "ename": "ApiException",
          "evalue": "(400)\nReason: Bad Request\nHTTP response headers: HTTPHeaderDict({'content-type': 'application/json', 'date': 'Tue, 08 Aug 2023 23:51:35 GMT', 'x-envoy-upstream-service-time': '0', 'content-length': '109', 'server': 'envoy'})\nHTTP response body: {\"code\":3,\"message\":\"Query vector dimension 1024 does not match the dimension of the index 128\",\"details\":[]}\n",
          "output_type": "error",
          "traceback": [
            "\u001b[0;31m---------------------------------------------------------------------------\u001b[0m",
            "\u001b[0;31mApiException\u001b[0m                              Traceback (most recent call last)",
            "Cell \u001b[0;32mIn[24], line 4\u001b[0m\n\u001b[1;32m      1\u001b[0m \u001b[39m# Do a simple vector similarity search\u001b[39;00m\n\u001b[1;32m      3\u001b[0m query \u001b[39m=\u001b[39m \u001b[39m\"\u001b[39m\u001b[39mWhat is magical about an autoencoder?\u001b[39m\u001b[39m\"\u001b[39m\n\u001b[0;32m----> 4\u001b[0m result \u001b[39m=\u001b[39m docsearch\u001b[39m.\u001b[39;49msimilarity_search(query)\n\u001b[1;32m      6\u001b[0m \u001b[39mprint\u001b[39m(result)\n",
            "File \u001b[0;32m~/Documents/CODE/websitenearme/webnearme-venv/lib/python3.11/site-packages/langchain/vectorstores/pinecone.py:150\u001b[0m, in \u001b[0;36mPinecone.similarity_search\u001b[0;34m(self, query, k, filter, namespace, **kwargs)\u001b[0m\n\u001b[1;32m    148\u001b[0m query_obj \u001b[39m=\u001b[39m \u001b[39mself\u001b[39m\u001b[39m.\u001b[39m_embedding_function(query)\n\u001b[1;32m    149\u001b[0m docs \u001b[39m=\u001b[39m []\n\u001b[0;32m--> 150\u001b[0m results \u001b[39m=\u001b[39m \u001b[39mself\u001b[39;49m\u001b[39m.\u001b[39;49m_index\u001b[39m.\u001b[39;49mquery(\n\u001b[1;32m    151\u001b[0m     [query_obj],\n\u001b[1;32m    152\u001b[0m     top_k\u001b[39m=\u001b[39;49mk,\n\u001b[1;32m    153\u001b[0m     include_metadata\u001b[39m=\u001b[39;49m\u001b[39mTrue\u001b[39;49;00m,\n\u001b[1;32m    154\u001b[0m     namespace\u001b[39m=\u001b[39;49mnamespace,\n\u001b[1;32m    155\u001b[0m     \u001b[39mfilter\u001b[39;49m\u001b[39m=\u001b[39;49m\u001b[39mfilter\u001b[39;49m,\n\u001b[1;32m    156\u001b[0m )\n\u001b[1;32m    157\u001b[0m \u001b[39mfor\u001b[39;00m res \u001b[39min\u001b[39;00m results[\u001b[39m\"\u001b[39m\u001b[39mmatches\u001b[39m\u001b[39m\"\u001b[39m]:\n\u001b[1;32m    158\u001b[0m     metadata \u001b[39m=\u001b[39m res[\u001b[39m\"\u001b[39m\u001b[39mmetadata\u001b[39m\u001b[39m\"\u001b[39m]\n",
            "File \u001b[0;32m~/Documents/CODE/websitenearme/webnearme-venv/lib/python3.11/site-packages/pinecone/core/utils/error_handling.py:17\u001b[0m, in \u001b[0;36mvalidate_and_convert_errors.<locals>.inner_func\u001b[0;34m(*args, **kwargs)\u001b[0m\n\u001b[1;32m     15\u001b[0m Config\u001b[39m.\u001b[39mvalidate()  \u001b[39m# raises exceptions in case of invalid config\u001b[39;00m\n\u001b[1;32m     16\u001b[0m \u001b[39mtry\u001b[39;00m:\n\u001b[0;32m---> 17\u001b[0m     \u001b[39mreturn\u001b[39;00m func(\u001b[39m*\u001b[39;49margs, \u001b[39m*\u001b[39;49m\u001b[39m*\u001b[39;49mkwargs)\n\u001b[1;32m     18\u001b[0m \u001b[39mexcept\u001b[39;00m MaxRetryError \u001b[39mas\u001b[39;00m e:\n\u001b[1;32m     19\u001b[0m     \u001b[39mif\u001b[39;00m \u001b[39misinstance\u001b[39m(e\u001b[39m.\u001b[39mreason, ProtocolError):\n",
            "File \u001b[0;32m~/Documents/CODE/websitenearme/webnearme-venv/lib/python3.11/site-packages/pinecone/index.py:449\u001b[0m, in \u001b[0;36mIndex.query\u001b[0;34m(self, vector, id, queries, top_k, namespace, filter, include_values, include_metadata, sparse_vector, **kwargs)\u001b[0m\n\u001b[1;32m    439\u001b[0m sparse_vector \u001b[39m=\u001b[39m \u001b[39mself\u001b[39m\u001b[39m.\u001b[39m_parse_sparse_values_arg(sparse_vector)\n\u001b[1;32m    440\u001b[0m args_dict \u001b[39m=\u001b[39m \u001b[39mself\u001b[39m\u001b[39m.\u001b[39m_parse_non_empty_args([(\u001b[39m'\u001b[39m\u001b[39mvector\u001b[39m\u001b[39m'\u001b[39m, vector),\n\u001b[1;32m    441\u001b[0m                                         (\u001b[39m'\u001b[39m\u001b[39mid\u001b[39m\u001b[39m'\u001b[39m, \u001b[39mid\u001b[39m),\n\u001b[1;32m    442\u001b[0m                                         (\u001b[39m'\u001b[39m\u001b[39mqueries\u001b[39m\u001b[39m'\u001b[39m, queries),\n\u001b[0;32m   (...)\u001b[0m\n\u001b[1;32m    447\u001b[0m                                         (\u001b[39m'\u001b[39m\u001b[39minclude_metadata\u001b[39m\u001b[39m'\u001b[39m, include_metadata),\n\u001b[1;32m    448\u001b[0m                                         (\u001b[39m'\u001b[39m\u001b[39msparse_vector\u001b[39m\u001b[39m'\u001b[39m, sparse_vector)])\n\u001b[0;32m--> 449\u001b[0m response \u001b[39m=\u001b[39m \u001b[39mself\u001b[39;49m\u001b[39m.\u001b[39;49m_vector_api\u001b[39m.\u001b[39;49mquery(\n\u001b[1;32m    450\u001b[0m     QueryRequest(\n\u001b[1;32m    451\u001b[0m         \u001b[39m*\u001b[39;49m\u001b[39m*\u001b[39;49margs_dict,\n\u001b[1;32m    452\u001b[0m         _check_type\u001b[39m=\u001b[39;49m_check_type,\n\u001b[1;32m    453\u001b[0m         \u001b[39m*\u001b[39;49m\u001b[39m*\u001b[39;49m{k: v \u001b[39mfor\u001b[39;49;00m k, v \u001b[39min\u001b[39;49;00m kwargs\u001b[39m.\u001b[39;49mitems() \u001b[39mif\u001b[39;49;00m k \u001b[39mnot\u001b[39;49;00m \u001b[39min\u001b[39;49;00m _OPENAPI_ENDPOINT_PARAMS}\n\u001b[1;32m    454\u001b[0m     ),\n\u001b[1;32m    455\u001b[0m     \u001b[39m*\u001b[39;49m\u001b[39m*\u001b[39;49m{k: v \u001b[39mfor\u001b[39;49;00m k, v \u001b[39min\u001b[39;49;00m kwargs\u001b[39m.\u001b[39;49mitems() \u001b[39mif\u001b[39;49;00m k \u001b[39min\u001b[39;49;00m _OPENAPI_ENDPOINT_PARAMS}\n\u001b[1;32m    456\u001b[0m )\n\u001b[1;32m    457\u001b[0m \u001b[39mreturn\u001b[39;00m parse_query_response(response, vector \u001b[39mis\u001b[39;00m \u001b[39mnot\u001b[39;00m \u001b[39mNone\u001b[39;00m \u001b[39mor\u001b[39;00m \u001b[39mid\u001b[39m)\n",
            "File \u001b[0;32m~/Documents/CODE/websitenearme/webnearme-venv/lib/python3.11/site-packages/pinecone/core/client/api_client.py:776\u001b[0m, in \u001b[0;36mEndpoint.__call__\u001b[0;34m(self, *args, **kwargs)\u001b[0m\n\u001b[1;32m    765\u001b[0m \u001b[39mdef\u001b[39;00m \u001b[39m__call__\u001b[39m(\u001b[39mself\u001b[39m, \u001b[39m*\u001b[39margs, \u001b[39m*\u001b[39m\u001b[39m*\u001b[39mkwargs):\n\u001b[1;32m    766\u001b[0m \u001b[39m    \u001b[39m\u001b[39m\"\"\" This method is invoked when endpoints are called\u001b[39;00m\n\u001b[1;32m    767\u001b[0m \u001b[39m    Example:\u001b[39;00m\n\u001b[1;32m    768\u001b[0m \n\u001b[0;32m   (...)\u001b[0m\n\u001b[1;32m    774\u001b[0m \n\u001b[1;32m    775\u001b[0m \u001b[39m    \"\"\"\u001b[39;00m\n\u001b[0;32m--> 776\u001b[0m     \u001b[39mreturn\u001b[39;00m \u001b[39mself\u001b[39;49m\u001b[39m.\u001b[39;49mcallable(\u001b[39mself\u001b[39;49m, \u001b[39m*\u001b[39;49margs, \u001b[39m*\u001b[39;49m\u001b[39m*\u001b[39;49mkwargs)\n",
            "File \u001b[0;32m~/Documents/CODE/websitenearme/webnearme-venv/lib/python3.11/site-packages/pinecone/core/client/api/vector_operations_api.py:716\u001b[0m, in \u001b[0;36mVectorOperationsApi.__init__.<locals>.__query\u001b[0;34m(self, query_request, **kwargs)\u001b[0m\n\u001b[1;32m    713\u001b[0m kwargs[\u001b[39m'\u001b[39m\u001b[39m_host_index\u001b[39m\u001b[39m'\u001b[39m] \u001b[39m=\u001b[39m kwargs\u001b[39m.\u001b[39mget(\u001b[39m'\u001b[39m\u001b[39m_host_index\u001b[39m\u001b[39m'\u001b[39m)\n\u001b[1;32m    714\u001b[0m kwargs[\u001b[39m'\u001b[39m\u001b[39mquery_request\u001b[39m\u001b[39m'\u001b[39m] \u001b[39m=\u001b[39m \\\n\u001b[1;32m    715\u001b[0m     query_request\n\u001b[0;32m--> 716\u001b[0m \u001b[39mreturn\u001b[39;00m \u001b[39mself\u001b[39;49m\u001b[39m.\u001b[39;49mcall_with_http_info(\u001b[39m*\u001b[39;49m\u001b[39m*\u001b[39;49mkwargs)\n",
            "File \u001b[0;32m~/Documents/CODE/websitenearme/webnearme-venv/lib/python3.11/site-packages/pinecone/core/client/api_client.py:838\u001b[0m, in \u001b[0;36mEndpoint.call_with_http_info\u001b[0;34m(self, **kwargs)\u001b[0m\n\u001b[1;32m    834\u001b[0m     header_list \u001b[39m=\u001b[39m \u001b[39mself\u001b[39m\u001b[39m.\u001b[39mapi_client\u001b[39m.\u001b[39mselect_header_content_type(\n\u001b[1;32m    835\u001b[0m         content_type_headers_list)\n\u001b[1;32m    836\u001b[0m     params[\u001b[39m'\u001b[39m\u001b[39mheader\u001b[39m\u001b[39m'\u001b[39m][\u001b[39m'\u001b[39m\u001b[39mContent-Type\u001b[39m\u001b[39m'\u001b[39m] \u001b[39m=\u001b[39m header_list\n\u001b[0;32m--> 838\u001b[0m \u001b[39mreturn\u001b[39;00m \u001b[39mself\u001b[39;49m\u001b[39m.\u001b[39;49mapi_client\u001b[39m.\u001b[39;49mcall_api(\n\u001b[1;32m    839\u001b[0m     \u001b[39mself\u001b[39;49m\u001b[39m.\u001b[39;49msettings[\u001b[39m'\u001b[39;49m\u001b[39mendpoint_path\u001b[39;49m\u001b[39m'\u001b[39;49m], \u001b[39mself\u001b[39;49m\u001b[39m.\u001b[39;49msettings[\u001b[39m'\u001b[39;49m\u001b[39mhttp_method\u001b[39;49m\u001b[39m'\u001b[39;49m],\n\u001b[1;32m    840\u001b[0m     params[\u001b[39m'\u001b[39;49m\u001b[39mpath\u001b[39;49m\u001b[39m'\u001b[39;49m],\n\u001b[1;32m    841\u001b[0m     params[\u001b[39m'\u001b[39;49m\u001b[39mquery\u001b[39;49m\u001b[39m'\u001b[39;49m],\n\u001b[1;32m    842\u001b[0m     params[\u001b[39m'\u001b[39;49m\u001b[39mheader\u001b[39;49m\u001b[39m'\u001b[39;49m],\n\u001b[1;32m    843\u001b[0m     body\u001b[39m=\u001b[39;49mparams[\u001b[39m'\u001b[39;49m\u001b[39mbody\u001b[39;49m\u001b[39m'\u001b[39;49m],\n\u001b[1;32m    844\u001b[0m     post_params\u001b[39m=\u001b[39;49mparams[\u001b[39m'\u001b[39;49m\u001b[39mform\u001b[39;49m\u001b[39m'\u001b[39;49m],\n\u001b[1;32m    845\u001b[0m     files\u001b[39m=\u001b[39;49mparams[\u001b[39m'\u001b[39;49m\u001b[39mfile\u001b[39;49m\u001b[39m'\u001b[39;49m],\n\u001b[1;32m    846\u001b[0m     response_type\u001b[39m=\u001b[39;49m\u001b[39mself\u001b[39;49m\u001b[39m.\u001b[39;49msettings[\u001b[39m'\u001b[39;49m\u001b[39mresponse_type\u001b[39;49m\u001b[39m'\u001b[39;49m],\n\u001b[1;32m    847\u001b[0m     auth_settings\u001b[39m=\u001b[39;49m\u001b[39mself\u001b[39;49m\u001b[39m.\u001b[39;49msettings[\u001b[39m'\u001b[39;49m\u001b[39mauth\u001b[39;49m\u001b[39m'\u001b[39;49m],\n\u001b[1;32m    848\u001b[0m     async_req\u001b[39m=\u001b[39;49mkwargs[\u001b[39m'\u001b[39;49m\u001b[39masync_req\u001b[39;49m\u001b[39m'\u001b[39;49m],\n\u001b[1;32m    849\u001b[0m     _check_type\u001b[39m=\u001b[39;49mkwargs[\u001b[39m'\u001b[39;49m\u001b[39m_check_return_type\u001b[39;49m\u001b[39m'\u001b[39;49m],\n\u001b[1;32m    850\u001b[0m     _return_http_data_only\u001b[39m=\u001b[39;49mkwargs[\u001b[39m'\u001b[39;49m\u001b[39m_return_http_data_only\u001b[39;49m\u001b[39m'\u001b[39;49m],\n\u001b[1;32m    851\u001b[0m     _preload_content\u001b[39m=\u001b[39;49mkwargs[\u001b[39m'\u001b[39;49m\u001b[39m_preload_content\u001b[39;49m\u001b[39m'\u001b[39;49m],\n\u001b[1;32m    852\u001b[0m     _request_timeout\u001b[39m=\u001b[39;49mkwargs[\u001b[39m'\u001b[39;49m\u001b[39m_request_timeout\u001b[39;49m\u001b[39m'\u001b[39;49m],\n\u001b[1;32m    853\u001b[0m     _host\u001b[39m=\u001b[39;49m_host,\n\u001b[1;32m    854\u001b[0m     collection_formats\u001b[39m=\u001b[39;49mparams[\u001b[39m'\u001b[39;49m\u001b[39mcollection_format\u001b[39;49m\u001b[39m'\u001b[39;49m])\n",
            "File \u001b[0;32m~/Documents/CODE/websitenearme/webnearme-venv/lib/python3.11/site-packages/pinecone/core/client/api_client.py:413\u001b[0m, in \u001b[0;36mApiClient.call_api\u001b[0;34m(self, resource_path, method, path_params, query_params, header_params, body, post_params, files, response_type, auth_settings, async_req, _return_http_data_only, collection_formats, _preload_content, _request_timeout, _host, _check_type)\u001b[0m\n\u001b[1;32m    359\u001b[0m \u001b[39m\u001b[39m\u001b[39m\"\"\"Makes the HTTP request (synchronous) and returns deserialized data.\u001b[39;00m\n\u001b[1;32m    360\u001b[0m \n\u001b[1;32m    361\u001b[0m \u001b[39mTo make an async_req request, set the async_req parameter.\u001b[39;00m\n\u001b[0;32m   (...)\u001b[0m\n\u001b[1;32m    410\u001b[0m \u001b[39m    then the method will return the response directly.\u001b[39;00m\n\u001b[1;32m    411\u001b[0m \u001b[39m\"\"\"\u001b[39;00m\n\u001b[1;32m    412\u001b[0m \u001b[39mif\u001b[39;00m \u001b[39mnot\u001b[39;00m async_req:\n\u001b[0;32m--> 413\u001b[0m     \u001b[39mreturn\u001b[39;00m \u001b[39mself\u001b[39;49m\u001b[39m.\u001b[39;49m__call_api(resource_path, method,\n\u001b[1;32m    414\u001b[0m                            path_params, query_params, header_params,\n\u001b[1;32m    415\u001b[0m                            body, post_params, files,\n\u001b[1;32m    416\u001b[0m                            response_type, auth_settings,\n\u001b[1;32m    417\u001b[0m                            _return_http_data_only, collection_formats,\n\u001b[1;32m    418\u001b[0m                            _preload_content, _request_timeout, _host,\n\u001b[1;32m    419\u001b[0m                            _check_type)\n\u001b[1;32m    421\u001b[0m \u001b[39mreturn\u001b[39;00m \u001b[39mself\u001b[39m\u001b[39m.\u001b[39mpool\u001b[39m.\u001b[39mapply_async(\u001b[39mself\u001b[39m\u001b[39m.\u001b[39m__call_api, (resource_path,\n\u001b[1;32m    422\u001b[0m                                                method, path_params,\n\u001b[1;32m    423\u001b[0m                                                query_params,\n\u001b[0;32m   (...)\u001b[0m\n\u001b[1;32m    431\u001b[0m                                                _request_timeout,\n\u001b[1;32m    432\u001b[0m                                                _host, _check_type))\n",
            "File \u001b[0;32m~/Documents/CODE/websitenearme/webnearme-venv/lib/python3.11/site-packages/pinecone/core/client/api_client.py:207\u001b[0m, in \u001b[0;36mApiClient.__call_api\u001b[0;34m(self, resource_path, method, path_params, query_params, header_params, body, post_params, files, response_type, auth_settings, _return_http_data_only, collection_formats, _preload_content, _request_timeout, _host, _check_type)\u001b[0m\n\u001b[1;32m    205\u001b[0m \u001b[39mexcept\u001b[39;00m ApiException \u001b[39mas\u001b[39;00m e:\n\u001b[1;32m    206\u001b[0m     e\u001b[39m.\u001b[39mbody \u001b[39m=\u001b[39m e\u001b[39m.\u001b[39mbody\u001b[39m.\u001b[39mdecode(\u001b[39m'\u001b[39m\u001b[39mutf-8\u001b[39m\u001b[39m'\u001b[39m)\n\u001b[0;32m--> 207\u001b[0m     \u001b[39mraise\u001b[39;00m e\n\u001b[1;32m    209\u001b[0m \u001b[39mself\u001b[39m\u001b[39m.\u001b[39mlast_response \u001b[39m=\u001b[39m response_data\n\u001b[1;32m    211\u001b[0m return_data \u001b[39m=\u001b[39m response_data\n",
            "File \u001b[0;32m~/Documents/CODE/websitenearme/webnearme-venv/lib/python3.11/site-packages/pinecone/core/client/api_client.py:200\u001b[0m, in \u001b[0;36mApiClient.__call_api\u001b[0;34m(self, resource_path, method, path_params, query_params, header_params, body, post_params, files, response_type, auth_settings, _return_http_data_only, collection_formats, _preload_content, _request_timeout, _host, _check_type)\u001b[0m\n\u001b[1;32m    196\u001b[0m     url \u001b[39m=\u001b[39m _host \u001b[39m+\u001b[39m resource_path\n\u001b[1;32m    198\u001b[0m \u001b[39mtry\u001b[39;00m:\n\u001b[1;32m    199\u001b[0m     \u001b[39m# perform request and return response\u001b[39;00m\n\u001b[0;32m--> 200\u001b[0m     response_data \u001b[39m=\u001b[39m \u001b[39mself\u001b[39;49m\u001b[39m.\u001b[39;49mrequest(\n\u001b[1;32m    201\u001b[0m         method, url, query_params\u001b[39m=\u001b[39;49mquery_params, headers\u001b[39m=\u001b[39;49mheader_params,\n\u001b[1;32m    202\u001b[0m         post_params\u001b[39m=\u001b[39;49mpost_params, body\u001b[39m=\u001b[39;49mbody,\n\u001b[1;32m    203\u001b[0m         _preload_content\u001b[39m=\u001b[39;49m_preload_content,\n\u001b[1;32m    204\u001b[0m         _request_timeout\u001b[39m=\u001b[39;49m_request_timeout)\n\u001b[1;32m    205\u001b[0m \u001b[39mexcept\u001b[39;00m ApiException \u001b[39mas\u001b[39;00m e:\n\u001b[1;32m    206\u001b[0m     e\u001b[39m.\u001b[39mbody \u001b[39m=\u001b[39m e\u001b[39m.\u001b[39mbody\u001b[39m.\u001b[39mdecode(\u001b[39m'\u001b[39m\u001b[39mutf-8\u001b[39m\u001b[39m'\u001b[39m)\n",
            "File \u001b[0;32m~/Documents/CODE/websitenearme/webnearme-venv/lib/python3.11/site-packages/pinecone/core/client/api_client.py:459\u001b[0m, in \u001b[0;36mApiClient.request\u001b[0;34m(self, method, url, query_params, headers, post_params, body, _preload_content, _request_timeout)\u001b[0m\n\u001b[1;32m    451\u001b[0m     \u001b[39mreturn\u001b[39;00m \u001b[39mself\u001b[39m\u001b[39m.\u001b[39mrest_client\u001b[39m.\u001b[39mOPTIONS(url,\n\u001b[1;32m    452\u001b[0m                                     query_params\u001b[39m=\u001b[39mquery_params,\n\u001b[1;32m    453\u001b[0m                                     headers\u001b[39m=\u001b[39mheaders,\n\u001b[0;32m   (...)\u001b[0m\n\u001b[1;32m    456\u001b[0m                                     _request_timeout\u001b[39m=\u001b[39m_request_timeout,\n\u001b[1;32m    457\u001b[0m                                     body\u001b[39m=\u001b[39mbody)\n\u001b[1;32m    458\u001b[0m \u001b[39melif\u001b[39;00m method \u001b[39m==\u001b[39m \u001b[39m\"\u001b[39m\u001b[39mPOST\u001b[39m\u001b[39m\"\u001b[39m:\n\u001b[0;32m--> 459\u001b[0m     \u001b[39mreturn\u001b[39;00m \u001b[39mself\u001b[39;49m\u001b[39m.\u001b[39;49mrest_client\u001b[39m.\u001b[39;49mPOST(url,\n\u001b[1;32m    460\u001b[0m                                  query_params\u001b[39m=\u001b[39;49mquery_params,\n\u001b[1;32m    461\u001b[0m                                  headers\u001b[39m=\u001b[39;49mheaders,\n\u001b[1;32m    462\u001b[0m                                  post_params\u001b[39m=\u001b[39;49mpost_params,\n\u001b[1;32m    463\u001b[0m                                  _preload_content\u001b[39m=\u001b[39;49m_preload_content,\n\u001b[1;32m    464\u001b[0m                                  _request_timeout\u001b[39m=\u001b[39;49m_request_timeout,\n\u001b[1;32m    465\u001b[0m                                  body\u001b[39m=\u001b[39;49mbody)\n\u001b[1;32m    466\u001b[0m \u001b[39melif\u001b[39;00m method \u001b[39m==\u001b[39m \u001b[39m\"\u001b[39m\u001b[39mPUT\u001b[39m\u001b[39m\"\u001b[39m:\n\u001b[1;32m    467\u001b[0m     \u001b[39mreturn\u001b[39;00m \u001b[39mself\u001b[39m\u001b[39m.\u001b[39mrest_client\u001b[39m.\u001b[39mPUT(url,\n\u001b[1;32m    468\u001b[0m                                 query_params\u001b[39m=\u001b[39mquery_params,\n\u001b[1;32m    469\u001b[0m                                 headers\u001b[39m=\u001b[39mheaders,\n\u001b[0;32m   (...)\u001b[0m\n\u001b[1;32m    472\u001b[0m                                 _request_timeout\u001b[39m=\u001b[39m_request_timeout,\n\u001b[1;32m    473\u001b[0m                                 body\u001b[39m=\u001b[39mbody)\n",
            "File \u001b[0;32m~/Documents/CODE/websitenearme/webnearme-venv/lib/python3.11/site-packages/pinecone/core/client/rest.py:271\u001b[0m, in \u001b[0;36mRESTClientObject.POST\u001b[0;34m(self, url, headers, query_params, post_params, body, _preload_content, _request_timeout)\u001b[0m\n\u001b[1;32m    269\u001b[0m \u001b[39mdef\u001b[39;00m \u001b[39mPOST\u001b[39m(\u001b[39mself\u001b[39m, url, headers\u001b[39m=\u001b[39m\u001b[39mNone\u001b[39;00m, query_params\u001b[39m=\u001b[39m\u001b[39mNone\u001b[39;00m, post_params\u001b[39m=\u001b[39m\u001b[39mNone\u001b[39;00m,\n\u001b[1;32m    270\u001b[0m          body\u001b[39m=\u001b[39m\u001b[39mNone\u001b[39;00m, _preload_content\u001b[39m=\u001b[39m\u001b[39mTrue\u001b[39;00m, _request_timeout\u001b[39m=\u001b[39m\u001b[39mNone\u001b[39;00m):\n\u001b[0;32m--> 271\u001b[0m     \u001b[39mreturn\u001b[39;00m \u001b[39mself\u001b[39;49m\u001b[39m.\u001b[39;49mrequest(\u001b[39m\"\u001b[39;49m\u001b[39mPOST\u001b[39;49m\u001b[39m\"\u001b[39;49m, url,\n\u001b[1;32m    272\u001b[0m                         headers\u001b[39m=\u001b[39;49mheaders,\n\u001b[1;32m    273\u001b[0m                         query_params\u001b[39m=\u001b[39;49mquery_params,\n\u001b[1;32m    274\u001b[0m                         post_params\u001b[39m=\u001b[39;49mpost_params,\n\u001b[1;32m    275\u001b[0m                         _preload_content\u001b[39m=\u001b[39;49m_preload_content,\n\u001b[1;32m    276\u001b[0m                         _request_timeout\u001b[39m=\u001b[39;49m_request_timeout,\n\u001b[1;32m    277\u001b[0m                         body\u001b[39m=\u001b[39;49mbody)\n",
            "File \u001b[0;32m~/Documents/CODE/websitenearme/webnearme-venv/lib/python3.11/site-packages/pinecone/core/client/rest.py:230\u001b[0m, in \u001b[0;36mRESTClientObject.request\u001b[0;34m(self, method, url, query_params, headers, body, post_params, _preload_content, _request_timeout)\u001b[0m\n\u001b[1;32m    227\u001b[0m     \u001b[39mif\u001b[39;00m \u001b[39m500\u001b[39m \u001b[39m<\u001b[39m\u001b[39m=\u001b[39m r\u001b[39m.\u001b[39mstatus \u001b[39m<\u001b[39m\u001b[39m=\u001b[39m \u001b[39m599\u001b[39m:\n\u001b[1;32m    228\u001b[0m         \u001b[39mraise\u001b[39;00m ServiceException(http_resp\u001b[39m=\u001b[39mr)\n\u001b[0;32m--> 230\u001b[0m     \u001b[39mraise\u001b[39;00m ApiException(http_resp\u001b[39m=\u001b[39mr)\n\u001b[1;32m    232\u001b[0m \u001b[39mreturn\u001b[39;00m r\n",
            "\u001b[0;31mApiException\u001b[0m: (400)\nReason: Bad Request\nHTTP response headers: HTTPHeaderDict({'content-type': 'application/json', 'date': 'Tue, 08 Aug 2023 23:51:35 GMT', 'x-envoy-upstream-service-time': '0', 'content-length': '109', 'server': 'envoy'})\nHTTP response body: {\"code\":3,\"message\":\"Query vector dimension 1024 does not match the dimension of the index 128\",\"details\":[]}\n"
          ]
        }
      ],
      "source": [
        "# Do a simple vector similarity search\n",
        "\n",
        "query = \"What is magical about an autoencoder?\"\n",
        "result = docsearch.similarity_search(query)\n",
        "\n",
        "# print(result)"
      ]
    },
    {
      "cell_type": "code",
      "execution_count": null,
      "metadata": {
        "id": "4Ogz8luZNRnJ"
      },
      "outputs": [],
      "source": [
        "# Import Python REPL tool and instantiate Python agent\n",
        "\n",
        "from langchain.agents.agent_toolkits import create_python_agent\n",
        "from langchain.tools.python.tool import PythonREPLTool\n",
        "from langchain.python import PythonREPL\n",
        "from langchain.llms.openai import OpenAI\n",
        "\n",
        "agent_executor = create_python_agent(\n",
        "    llm=OpenAI(temperature=0, max_tokens=1000),\n",
        "    tool=PythonREPLTool(),\n",
        "    verbose=True\n",
        ")"
      ]
    },
    {
      "cell_type": "code",
      "execution_count": null,
      "metadata": {
        "id": "BVHMDj0sNi09"
      },
      "outputs": [],
      "source": [
        "# Execute the Python agent\n",
        "\n",
        "agent_executor.run(\"Find the roots (zeros) if the quadratic function 3 * x**2 + 2*x -1\")"
      ]
    }
  ],
  "metadata": {
    "colab": {
      "authorship_tag": "ABX9TyONM96f7/m0jUCD9c87+MQy",
      "include_colab_link": true,
      "provenance": []
    },
    "kernelspec": {
      "display_name": "Python 3",
      "name": "python3"
    },
    "language_info": {
      "codemirror_mode": {
        "name": "ipython",
        "version": 3
      },
      "file_extension": ".py",
      "mimetype": "text/x-python",
      "name": "python",
      "nbconvert_exporter": "python",
      "pygments_lexer": "ipython3",
      "version": "3.11.3"
    }
  },
  "nbformat": 4,
  "nbformat_minor": 0
}
