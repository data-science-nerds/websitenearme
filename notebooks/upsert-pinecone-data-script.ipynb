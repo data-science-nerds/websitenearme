{
  "cells": [
    {
      "cell_type": "code",
      "execution_count": 1,
      "metadata": {
        "id": "50dvxjqCFmhF"
      },
      "outputs": [
        {
          "data": {
            "text/plain": [
              "True"
            ]
          },
          "execution_count": 1,
          "metadata": {},
          "output_type": "execute_result"
        }
      ],
      "source": [
        "# Load environment variables\n",
        "# python -m ipykernel install --user --name=webnearme-venv\n",
        "from dotenv import load_dotenv,find_dotenv\n",
        "load_dotenv(find_dotenv())\n",
        "\n"
      ]
    },
    {
      "cell_type": "code",
      "execution_count": 2,
      "metadata": {},
      "outputs": [],
      "source": [
        "# allows notebook to work\n",
        "import requests\n",
        "from requests.packages.urllib3.util.ssl_ import create_urllib3_context\n",
        "\n",
        "CIPHERS = (\n",
        "    'ECDHE+AESGCM:ECDHE+CHACHA20:DHE+AESGCM:DHE+CHACHA20:ECDH+AESGCM:ECDH+CHACHA20:DH+AESGCM:DH+CHACHA20:'\n",
        "    'ECDHE+AES:!aNULL:!eNULL:!EXPORT:!DES:!MD5:!PSK:!RC4:!HMAC_SHA1:!SHA1:!DHE+AES:!ECDH+AES:!DH+AES'\n",
        ")\n",
        "\n",
        "requests.packages.urllib3.util.ssl_.DEFAULT_CIPHERS = CIPHERS\n",
        "# Skip the following two lines if they cause errors\n",
        "# requests.packages.urllib3.contrib.pyopenssl.DEFAULT_SSL_CIPHER_LIST = CIPHERS\n",
        "# requests.packages.urllib3.contrib.pyopenssl.inject_into_urllib3()\n",
        "requests.packages.urllib3.util.ssl_.create_default_context = create_urllib3_context\n"
      ]
    },
    {
      "cell_type": "markdown",
      "metadata": {},
      "source": [
        "# we will create a hybrid index that can search semantic and keyword"
      ]
    },
    {
      "cell_type": "code",
      "execution_count": 3,
      "metadata": {},
      "outputs": [],
      "source": [
        "# index = pinecone.Index('websitenearme-fast-api')"
      ]
    },
    {
      "cell_type": "code",
      "execution_count": 4,
      "metadata": {},
      "outputs": [],
      "source": [
        "# this is our text corpus\n",
        "all_sentences = [\"Fast websites, fast!\",\"HIRE US\",\"MAIN PRODUCT/SERVICE 1\",\"OUR EX1: WEBSITE DESIGN\",\"\",\"Initial website, same template as this site\t1 design + hosting and domain (godaddy or transferred to godaddy)= ~$550\",\"AI-powered SEO initial setup\t$0, included\",\"multilingual\t$0, included\",\"chatbot + maintenance\tNOT INCLUDED\",\"Website design\",\"MAIN PRODUCT/SERVICE 2\",\"OUR EX2: CHATBOTS FOR OUR WEBSITES\",\"\",\"Website + 1 site-specific chatbot\t$100 * 1 time, chatbot setup, $20/month chatGPT subscription\",\"Train model with AI-generated + your questions & answers\t$100/ training round\",\"Multiple chatbots with different personalities/ purposes\t$100 each\",\"Connect chatbot to your existing website (i.e., we did not build your website)\tPlease contact us with specifics, these start at $500/each and we reserve the right to say no\",\"Chatbot types and prices\",\"MAIN PRODUCT/SERVICE 3\",\"EX3: SUBSCRIPTIONS\",\"\",\"monthly site health + maintenance + minor updates + 3 emergency updates\t$50/month\",\"monthly site health + maintenance + minor updates + 1 emergency update/week\t$250/month\",\"emergency update\t$50\",\"content generation- 4 posts, 1 per week\t$100/month\",\"Subscriptions and prices\"]"
      ]
    },
    {
      "cell_type": "code",
      "execution_count": 5,
      "metadata": {},
      "outputs": [
        {
          "name": "stdout",
          "output_type": "stream",
          "text": [
            "(26, 768)\n",
            "768\n",
            "[[-2.35444633e-03  5.48605137e-02 -3.57232727e-02 -8.66033509e-03\n",
            "   1.22838309e-02 -2.31732037e-02  2.15398464e-02  3.68994251e-02\n",
            "  -1.17613141e-04 -4.66104783e-02 -5.90305449e-03 -6.81372806e-02\n",
            "   3.35595235e-02  5.76601364e-02  5.46999602e-03  1.67380031e-02\n",
            "   4.78123734e-03  1.83588676e-02 -1.51509894e-02  1.55020389e-03\n",
            "   1.04834959e-02 -4.37937155e-02 -2.71082576e-02 -1.38526736e-02\n",
            "   2.51252055e-02 -3.59955840e-02 -7.81918876e-03  3.21647860e-02\n",
            "  -4.07713130e-02 -5.99804297e-02  2.53628823e-03 -1.73783060e-02\n",
            "  -2.66849659e-02  2.87912805e-02  3.07434567e-09  1.53542096e-02\n",
            "  -1.65473588e-03 -7.35954242e-03 -9.00205299e-02  1.03918694e-01\n",
            "  -3.22410986e-02  9.26716160e-03 -3.19100432e-02  1.39510101e-02\n",
            "   1.24675678e-02 -4.18858081e-02  5.70722297e-03 -5.45279644e-02\n",
            "  -4.88943644e-02  5.97022660e-02 -3.53687368e-02  1.49220414e-02\n",
            "  -3.00463904e-02 -2.08735559e-02  3.38984355e-02 -3.03387512e-02\n",
            "  -1.00002084e-02 -5.85185178e-02  6.18790351e-02  6.68968447e-03\n",
            "  -4.73129749e-03 -4.96067517e-02 -3.05189230e-02 -1.34688336e-04\n",
            "  -3.40845883e-02  2.99557578e-02  2.92638578e-02 -2.87763979e-02\n",
            "  -1.30798705e-02  7.51560032e-02 -7.07463408e-03 -1.22585557e-02\n",
            "   3.58563624e-02  3.65237216e-03 -7.70555902e-03  1.00495694e-02\n",
            "   1.63449384e-02  9.97935310e-02  3.80520821e-02  2.93396134e-02\n",
            "  -9.37349424e-02 -6.33878401e-03  2.52725128e-02  1.42629268e-02\n",
            "   4.25941423e-02  4.76615271e-03 -6.23661559e-03  1.64991207e-02\n",
            "  -8.87235394e-04  1.30985118e-02  4.24384959e-02 -3.58461216e-02\n",
            "  -1.73138939e-02 -7.03320233e-03  7.30057154e-03 -5.37554286e-02\n",
            "  -3.08346399e-03  7.77185112e-02  9.16993544e-02 -4.33226489e-02\n",
            "   3.66310813e-02  2.17409823e-02  4.83897561e-03  1.15494030e-02\n",
            "  -6.21318631e-02 -7.31353741e-03 -3.97020057e-02 -7.56901354e-02\n",
            "   1.29765887e-02  6.48807809e-02  6.83850562e-03  4.32584388e-03\n",
            "   8.71064793e-03  5.40607050e-02 -2.80118361e-02  2.29377579e-02\n",
            "  -2.24091616e-02  3.37634496e-02  3.42575163e-02 -1.07305846e-03\n",
            "   3.31273489e-03  1.32310893e-02  6.59501227e-03  1.01214526e-02\n",
            "  -6.75450712e-02 -1.37051949e-02 -6.58175349e-02  7.81600364e-03\n",
            "  -2.62177996e-02  7.83941429e-03  1.16902934e-02  2.15746649e-02\n",
            "   5.32528311e-02  2.16938667e-02  1.83097757e-02  5.62471077e-02\n",
            "  -1.62956007e-02  2.08428167e-02 -4.31076251e-02 -2.14782227e-02\n",
            "   1.02557903e-02 -1.54988002e-02 -3.57323065e-02  2.15550885e-02\n",
            "  -1.66404638e-02  2.44236961e-02  3.14506516e-02  8.83610826e-03\n",
            "  -2.37933844e-02 -5.50921820e-02 -3.18136662e-02 -3.45577369e-03\n",
            "   5.43452939e-03 -1.69009902e-03 -3.55012566e-02 -2.23260224e-02\n",
            "  -4.46991035e-04  2.93047838e-02 -1.83962192e-02  3.97252180e-02\n",
            "  -2.65295035e-03  2.12679151e-02 -2.12598331e-02  6.74039871e-02\n",
            "   3.81187275e-02  1.29842442e-02 -7.09284004e-03 -3.42289992e-02\n",
            "   1.25786271e-02 -1.31515451e-02  8.87462869e-03 -2.08731554e-02\n",
            "  -1.71153266e-02  3.22044417e-02 -1.50638232e-02 -5.82324639e-02\n",
            "   4.00157832e-03 -2.87018251e-02  1.01346644e-02  2.60897093e-02\n",
            "  -2.18738560e-02 -1.15262300e-01 -1.69362444e-02  5.13514765e-02\n",
            "  -8.30971461e-04  3.10842283e-02 -1.58010889e-02  6.71632737e-02\n",
            "  -5.87151088e-02  8.74785939e-04 -2.06140876e-02 -1.60968080e-02\n",
            "   4.60834568e-03  3.26081254e-02 -4.51341942e-02 -6.36564344e-02\n",
            "  -2.17652973e-03 -3.69204134e-02 -1.05734821e-02 -4.82417364e-03\n",
            "  -7.22234184e-03  2.74340212e-02 -7.93660805e-02  1.07248068e-01\n",
            "  -4.30300646e-02  7.88409412e-02 -2.79486994e-03  1.49087105e-02\n",
            "  -2.01768819e-02  2.76531745e-02  1.62466639e-03  4.51207487e-03\n",
            "  -1.03270737e-02  3.85419303e-03  5.01695573e-02  1.71583937e-03\n",
            "   4.68755998e-02  6.58410415e-03  4.70799282e-02  7.21566826e-02\n",
            "   1.36106182e-02  3.67993861e-02  4.18089665e-02 -2.29473803e-02\n",
            "   4.23469022e-02  1.81377621e-03 -4.27012369e-02  4.29433323e-02\n",
            "  -2.08242331e-02 -3.41136269e-02 -3.54091227e-02 -1.38469823e-02\n",
            "   3.69055830e-02  6.89903134e-03 -3.08942646e-02  2.50646938e-02\n",
            "   1.51279166e-01  7.03376308e-02  1.42970765e-02 -5.21093011e-02\n",
            "   1.87512394e-02  4.29846384e-02  2.27371212e-02  1.60647184e-02\n",
            "  -2.62975879e-03  1.06604695e-02 -4.51245010e-02  3.63822989e-02\n",
            "   4.98581715e-02 -1.43193994e-02  1.03755649e-02  4.30759788e-03\n",
            "   1.41901821e-02  3.99877802e-02 -1.65755413e-02  3.07082590e-02\n",
            "  -3.05214338e-02  9.02781729e-03  4.74597774e-02  3.12289800e-02\n",
            "   8.29062387e-02 -4.79685962e-02  3.45176682e-02 -1.18045406e-02\n",
            "  -2.80683991e-02 -5.21817096e-02 -1.36942361e-02  2.65944395e-02\n",
            "  -4.25160341e-02 -6.81609567e-03 -1.10533340e-02 -2.19925027e-02\n",
            "  -2.43972428e-03 -9.81188565e-03  9.13818553e-03 -7.43304659e-03\n",
            "   6.23044111e-02 -3.54734436e-02  1.90495863e-03 -1.40241636e-02\n",
            "  -3.73782292e-02 -6.99384585e-02  6.71270816e-03 -1.73050389e-02\n",
            "   1.30065987e-02 -2.93060485e-02  1.85515024e-02 -9.15278196e-02\n",
            "  -1.08287036e-02 -6.30257353e-02  2.16405168e-02  1.01568690e-02\n",
            "   3.75445448e-02 -6.29729107e-02 -2.77174427e-03 -3.32323425e-02\n",
            "  -4.36136536e-02  2.04320808e-04  4.89414204e-04 -2.06198525e-02\n",
            "   1.48092303e-02 -8.17477144e-03 -5.93552599e-03 -1.66922417e-02\n",
            "  -1.31926769e-02  2.83716973e-02  1.11006796e-02 -5.00227604e-03\n",
            "  -3.26025188e-02  1.22436350e-02  1.63714495e-02 -1.97349899e-02\n",
            "  -3.91803682e-03  2.67086402e-02 -2.75410642e-03 -9.31989308e-03\n",
            "   8.00169818e-03  1.78736281e-02 -5.95728196e-02  4.27614376e-02\n",
            "   2.12648362e-02  4.24627364e-02 -3.52249071e-02  2.69954782e-02\n",
            "   5.57576790e-02  3.51274922e-03 -1.60407126e-02  2.41539087e-02\n",
            "  -8.26612581e-04 -8.05554092e-02  3.10195927e-02 -3.57014984e-02\n",
            "  -8.68186075e-03  2.28128117e-02  5.36524737e-03  1.23567626e-01\n",
            "  -3.95590700e-02 -6.54327497e-03  3.60070616e-02 -8.84684175e-03\n",
            "  -4.16231640e-02 -7.41297826e-02  9.79792210e-04 -9.94299203e-02\n",
            "  -7.59063475e-03 -5.52528687e-02  6.05858453e-02 -3.92335914e-02\n",
            "  -5.44134304e-02 -2.03245021e-02  1.06212087e-02  2.47139949e-02\n",
            "  -3.33532766e-02 -6.56382414e-03  6.75870851e-03  8.47473815e-02\n",
            "  -3.64601910e-02 -2.03089342e-02 -2.26141363e-02  2.58818641e-02\n",
            "  -4.65866970e-03  6.70254305e-02  8.76570418e-02  6.71147108e-02\n",
            "   8.36539175e-03  1.25167603e-02  2.86288224e-02  1.37467096e-02\n",
            "  -1.31171932e-02  1.45645738e-02 -3.79678570e-02  6.08725324e-02\n",
            "   2.66071241e-02  2.48208027e-02 -3.62975709e-03 -2.83669457e-02\n",
            "  -2.37503182e-02  4.95347083e-02 -2.59043798e-02  5.19267172e-02\n",
            "  -9.81964986e-04  7.58801354e-04  3.80574428e-02  1.68538596e-02\n",
            "  -3.48031744e-02 -4.51323092e-02 -3.11239790e-02 -1.26826437e-02\n",
            "   1.73576940e-02 -4.16890252e-03 -1.88717712e-02  4.22743224e-02\n",
            "   1.64298750e-02 -3.24490033e-02  1.47415316e-02  5.34485728e-02\n",
            "  -4.40253653e-02  1.26502970e-02 -2.56110243e-02  2.12839041e-02\n",
            "   2.83041671e-02 -3.66654992e-02  4.18026336e-02  2.86897272e-02\n",
            "  -8.13673530e-03 -2.63263402e-03  1.66278724e-02 -1.08452197e-02\n",
            "  -3.61786783e-02 -6.34445176e-02  2.12365817e-02 -4.71266843e-02\n",
            "  -2.99145970e-02  2.87492163e-02 -6.61239401e-03 -4.77334522e-02\n",
            "   8.21879786e-03  1.57065522e-02 -1.09306918e-02 -4.72926460e-02\n",
            "   3.61805484e-02  5.05207432e-03 -3.10307536e-02  3.04412842e-03\n",
            "   7.75070535e-03 -4.68818694e-02  3.95029262e-02 -1.20940118e-03\n",
            "  -1.76027883e-02 -1.18424268e-02 -7.18115494e-02  3.05150524e-02\n",
            "   3.58164273e-02 -5.20671606e-02  1.76420063e-02 -7.08382726e-02\n",
            "   5.10718450e-02 -9.49712563e-03  3.31819393e-02 -3.19981799e-02\n",
            "   1.80045683e-02 -6.40393747e-03 -2.40711085e-02  3.52121368e-02\n",
            "  -7.71669298e-02  3.93295335e-03 -5.84603241e-03 -9.10620540e-02\n",
            "   3.53538617e-03  2.59211045e-02 -7.09123090e-02 -5.78779466e-02\n",
            "   7.30048679e-03  4.08554450e-02  1.17788641e-02  2.24684570e-02\n",
            "   3.64548042e-02 -2.17188597e-02  2.34517828e-02 -2.71842889e-02\n",
            "   2.32844353e-02  6.61937061e-10 -2.82242037e-02 -1.88670326e-02\n",
            "  -2.04766672e-02 -5.30216172e-02  9.03438479e-02 -7.21089989e-02\n",
            "   1.65247582e-02  1.95385106e-02 -7.35273436e-02  4.55344887e-03\n",
            "  -1.58551242e-02 -1.99785884e-02 -7.35453591e-02 -1.39976116e-02\n",
            "  -3.22791710e-02 -1.16055878e-02  1.56450216e-02  2.77726874e-02\n",
            "   1.74984634e-02  3.67212482e-02 -1.69890858e-02 -9.08224192e-03\n",
            "   1.96419060e-02  1.75215546e-02  1.56924296e-02 -4.05919291e-02\n",
            "   4.67986874e-02 -7.35607836e-03  6.55114837e-03  8.12326965e-04\n",
            "  -2.91446187e-02 -1.75722316e-02  8.68782327e-02 -2.27745678e-02\n",
            "  -2.71305721e-02 -8.36274698e-02 -1.06428824e-02 -1.64313689e-02\n",
            "   1.53296106e-02 -1.22012272e-02 -3.83766997e-03  4.82135601e-02\n",
            "  -2.56297905e-02  2.96934042e-02 -1.59782097e-02 -4.23060078e-03\n",
            "   1.44114606e-02  4.07517515e-03 -1.73115544e-02 -2.14590281e-02\n",
            "  -2.15612389e-02 -2.10947525e-02 -4.28121798e-02 -1.47500085e-02\n",
            "   4.93349060e-02  1.60090514e-02 -1.42875761e-02 -2.80316155e-02\n",
            "   1.44196451e-02 -2.19932720e-02 -8.57191626e-03 -1.80854592e-02\n",
            "   1.21067194e-02 -3.16082686e-02  2.83889603e-02 -1.82498693e-02\n",
            "   5.00892624e-02  2.44317427e-02 -1.51261194e-02  2.15174854e-02\n",
            "   4.54629809e-02  2.06560665e-03  2.12837942e-03  3.85574475e-02\n",
            "  -3.51265557e-02  2.93687843e-02 -4.51480038e-03 -7.62026832e-02\n",
            "   3.43622006e-02  2.89855078e-02  8.55494570e-03 -1.58149861e-02\n",
            "  -4.45907786e-02 -2.58345599e-03  1.63880028e-02  3.92801054e-02\n",
            "  -2.71199979e-02 -2.57564317e-02 -1.96736101e-02  2.00506486e-02\n",
            "  -8.51491168e-02  1.43131157e-02 -7.82745611e-03  4.99823682e-10\n",
            "   2.11919378e-02 -1.74137042e-03 -8.22860468e-03 -2.77927071e-02\n",
            "  -1.14634763e-02  5.45975603e-02  3.94432209e-02  2.17649341e-02\n",
            "  -3.62110510e-03 -3.05530373e-02 -3.52067724e-02  3.65320072e-02\n",
            "   9.51170642e-03 -5.44097275e-03  1.76349748e-03 -1.62240658e-02\n",
            "   1.92196276e-02 -1.16817318e-02 -5.78129664e-03 -7.71526946e-03\n",
            "  -4.10594828e-02 -2.15384681e-02 -9.71579086e-03  3.29940841e-02\n",
            "  -3.44287697e-03  7.76938105e-04 -1.86366066e-02 -7.36789182e-02\n",
            "   6.16621673e-02  5.64647950e-02 -3.18989940e-02 -1.83744226e-02\n",
            "  -3.78457680e-02 -7.51675516e-02 -5.10135107e-03 -6.89923540e-02\n",
            "  -2.92305816e-02  6.75952658e-02  3.31497751e-02  3.04901376e-02\n",
            "   6.61192238e-02 -4.35855947e-02  1.04452400e-02  1.73095614e-02\n",
            "   2.17673704e-02 -1.57634041e-03  1.83883756e-02 -1.79571491e-02\n",
            "  -4.67314236e-02  4.77348501e-03 -4.76038782e-04 -1.24763520e-02\n",
            "  -3.44029590e-02  2.13134605e-02  3.95655520e-02  8.65661800e-02\n",
            "  -2.29799002e-02 -3.82123999e-02 -4.36466672e-02  3.87151875e-02\n",
            "  -1.31669128e-02  2.05104798e-02 -9.05466825e-03  4.15515417e-04\n",
            "  -5.72309680e-02  3.66755873e-02  5.84287802e-03 -6.54515475e-02\n",
            "   5.21091036e-02  4.47030738e-02  6.53206632e-02  2.85824165e-02\n",
            "  -1.84205677e-02  7.19411764e-03  1.67698525e-02 -1.07277874e-02\n",
            "  -8.35887436e-03 -4.26862622e-03  4.84368987e-02 -3.48189250e-02\n",
            "   7.80629143e-02 -5.59143871e-02 -1.44232446e-02  2.90877651e-02\n",
            "   1.68990213e-02  5.86459339e-02  1.05045121e-02 -3.38533567e-03\n",
            "   1.08153764e-02  2.78845578e-02  2.36429833e-02  2.08404977e-02\n",
            "   2.27005333e-02 -5.52711785e-02 -3.65102962e-02  5.58776669e-02\n",
            "  -3.47348675e-02  6.91498667e-02  1.43425027e-03 -5.41945510e-02\n",
            "   2.69415881e-02 -2.29341500e-02 -7.11084083e-02  8.17625076e-02\n",
            "  -3.75195825e-03  4.06050421e-02 -2.79057734e-02  8.12595338e-03\n",
            "  -4.57442328e-02  1.93371403e-03  8.81373975e-03 -2.67943591e-02\n",
            "   2.89573632e-02 -5.05374223e-02  2.87302062e-02  5.51951304e-03\n",
            "   1.92674510e-02  1.02231186e-02  3.21860472e-03 -3.64457667e-02\n",
            "   1.99302956e-02 -3.97475101e-02 -2.57579722e-02  2.80115698e-02\n",
            "  -5.04085943e-02  1.08495250e-03 -2.58192699e-02  7.98652619e-02\n",
            "  -3.09950709e-02 -1.28138483e-01  5.47616859e-04  6.25613320e-04\n",
            "   1.66214242e-08  5.35945874e-03  8.58469903e-02 -6.31937385e-03\n",
            "   2.14748308e-02 -3.05041932e-02 -2.43750606e-02  1.92418117e-02\n",
            "   6.78487029e-03  2.99910316e-03  8.47234577e-02  5.12016146e-03\n",
            "   6.59280568e-02 -5.59739731e-02  2.11239364e-02 -1.19949868e-02\n",
            "  -5.71073964e-02 -4.33519967e-02  1.33688124e-02 -2.05101278e-02\n",
            "   2.63273306e-02  2.08314266e-02  5.54369651e-02 -7.34290704e-02\n",
            "   6.94134086e-03  1.79139953e-02  1.88028440e-02 -2.44937781e-02\n",
            "   7.35196099e-03  3.99078354e-02  8.57358682e-04 -3.12843286e-02\n",
            "   5.31610399e-02 -7.29364576e-03 -3.13347057e-02  6.74514519e-03\n",
            "  -1.12324441e-02 -4.20131087e-02  3.79761070e-04  4.41180393e-02\n",
            "   7.87457824e-03  1.66578917e-03 -9.06818733e-03  6.24868600e-03\n",
            "  -1.08880782e-02  5.39452620e-02  2.18464658e-02  4.75952838e-04\n",
            "   4.82418463e-02  4.71984211e-04 -4.49327268e-02  8.98558274e-03\n",
            "  -2.89388932e-03 -1.20806051e-02  5.81070874e-03 -2.32502203e-02\n",
            "  -6.78346455e-02 -1.99878146e-03 -2.09295694e-02 -2.12572722e-05\n",
            "   5.74676655e-02  4.46717478e-02 -4.13699299e-02 -1.41718229e-02\n",
            "   5.67243584e-02  6.57577217e-02  3.51242051e-02  2.34738216e-02\n",
            "  -4.30658665e-33  2.22288910e-03 -3.10259722e-02  3.72146331e-02\n",
            "   6.68688118e-02 -4.97216582e-02 -2.17908770e-02 -1.09847002e-02\n",
            "  -2.76267417e-02 -1.85563471e-02 -4.24193032e-03  1.46611389e-02]]\n"
          ]
        }
      ],
      "source": [
        "# this uses HuggingFace \n",
        "from sentence_transformers import SentenceTransformer\n",
        "\n",
        "model = SentenceTransformer('flax-sentence-embeddings/all_datasets_v3_mpnet-base')\n",
        "\n",
        "all_embeddings = model.encode(all_sentences)\n",
        "print(all_embeddings.shape)\n",
        "print(all_embeddings.shape[1]) # this is the dimension we need to instantiate our pinecone index\n",
        "print(all_embeddings[0:1])"
      ]
    },
    {
      "cell_type": "markdown",
      "metadata": {},
      "source": [
        "# the above is sufficient for upserting semantic searches, however the next step allows us to be able to do keyword searches"
      ]
    },
    {
      "cell_type": "code",
      "execution_count": 6,
      "metadata": {},
      "outputs": [
        {
          "name": "stdout",
          "output_type": "stream",
          "text": [
            "huggingface/tokenizers: The current process just got forked, after parallelism has already been used. Disabling parallelism to avoid deadlocks...\n",
            "To disable this warning, you can either:\n",
            "\t- Avoid using `tokenizers` before the fork if possible\n",
            "\t- Explicitly set the environment variable TOKENIZERS_PARALLELISM=(true | false)\n",
            "Requirement already satisfied: sacremoses in /Users/elsa/Documents/CODE/websitenearme/webnearme-venv/lib/python3.11/site-packages (0.0.53)\n",
            "Requirement already satisfied: regex in /Users/elsa/Documents/CODE/websitenearme/webnearme-venv/lib/python3.11/site-packages (from sacremoses) (2023.6.3)\n",
            "Requirement already satisfied: six in /Users/elsa/Documents/CODE/websitenearme/webnearme-venv/lib/python3.11/site-packages (from sacremoses) (1.16.0)\n",
            "Requirement already satisfied: click in /Users/elsa/Documents/CODE/websitenearme/webnearme-venv/lib/python3.11/site-packages (from sacremoses) (8.1.6)\n",
            "Requirement already satisfied: joblib in /Users/elsa/Documents/CODE/websitenearme/webnearme-venv/lib/python3.11/site-packages (from sacremoses) (1.3.1)\n",
            "Requirement already satisfied: tqdm in /Users/elsa/Documents/CODE/websitenearme/webnearme-venv/lib/python3.11/site-packages (from sacremoses) (4.65.0)\n",
            "Note: you may need to restart the kernel to use updated packages.\n"
          ]
        },
        {
          "data": {
            "text/plain": [
              "['fast', 'websites', ',', 'fast', '!']"
            ]
          },
          "execution_count": 6,
          "metadata": {},
          "output_type": "execute_result"
        }
      ],
      "source": [
        "# this pip install allows notebooks to work\n",
        "%pip install sacremoses\n",
        "# this is HuggingFace transformer\n",
        "from transformers import AutoTokenizer\n",
        "\n",
        "# if using vast amounts of data, heed the parallelism warning\n",
        "# - Explicitly set the environment variable TOKENIZERS_PARALLELISM=(true | false)\n",
        "\n",
        "# transfo-xl tokenizer uses word-level encodings\n",
        "tokenizer = AutoTokenizer.from_pretrained('transfo-xl-wt103')\n",
        "\n",
        "all_tokens = [tokenizer.tokenize(sentence.lower()) for sentence in all_sentences]\n",
        "all_tokens[0]"
      ]
    },
    {
      "cell_type": "markdown",
      "metadata": {},
      "source": [
        "## we will connect to pinecone"
      ]
    },
    {
      "cell_type": "code",
      "execution_count": 7,
      "metadata": {},
      "outputs": [
        {
          "data": {
            "text/plain": [
              "IndexDescription(name='websitenearme-fast-api', metric='cosine', replicas=1, dimension=768.0, shards=1, pods=1, pod_type='p1', status={'ready': True, 'state': 'Ready'}, metadata_config=None, source_collection='')"
            ]
          },
          "execution_count": 7,
          "metadata": {},
          "output_type": "execute_result"
        }
      ],
      "source": [
        "#Import and initialize Pinecone client\n",
        "\n",
        "import os\n",
        "import pinecone\n",
        "from langchain.vectorstores import Pinecone\n",
        "\n",
        "# connect to pinecone environment\n",
        "pinecone.init(\n",
        "    api_key=os.getenv('PINECONE_API_KEY'),  \n",
        "    environment=os.getenv('PINECONE_ENV') \n",
        ")\n",
        "\n",
        "# # Initialize Pinecone\n",
        "INDEX_NAME = \"websitenearme-fast-api\"\n",
        "DIMENSIONS=all_embeddings.shape[1]\n",
        "\n",
        "# # Create and configure index if doesn't already exist\n",
        "if INDEX_NAME not in pinecone.list_indexes():\n",
        "    pinecone.create_index(\n",
        "        name=INDEX_NAME, \n",
        "        metric=\"eucladian\",\n",
        "        dimension=DIMENSIONS\n",
        "        )\n",
        "\n",
        "index = pinecone.Index(INDEX_NAME)  # this index var is necessary for upsert later\n",
        "pinecone.list_indexes()\n",
        "pinecone.describe_index(INDEX_NAME)"
      ]
    },
    {
      "cell_type": "markdown",
      "metadata": {},
      "source": [
        "## now we will upsert the data"
      ]
    },
    {
      "cell_type": "code",
      "execution_count": 8,
      "metadata": {},
      "outputs": [],
      "source": [
        "# only do this if i want a local json file\n",
        "import json\n",
        "from datetime import datetime\n",
        "\n",
        "# Assume all_embeddings and all_tokens are already defined\n",
        "\n",
        "# reformat the data\n",
        "upserts = {'vectors': []}\n",
        "for i, (embedding, tokens) in enumerate(zip(all_embeddings, all_tokens)):\n",
        "    vector = {\n",
        "        'id': f'{i}',\n",
        "        'metadata': {\n",
        "            'tokens': tokens,\n",
        "            'time_stamp': datetime.now().strftime('%Y-%m-%d %H:%M:%S')  # Place timestamp within metadata\n",
        "        },\n",
        "        'values': embedding.tolist()\n",
        "    }\n",
        "    upserts['vectors'].append(vector)\n",
        "\n",
        "# Add namespace at the root level\n",
        "upserts['namespace'] = 'websitenearme'\n",
        "\n",
        "# save to JSON\n",
        "with open('./upsert.json', 'w') as f:\n",
        "    json.dump(upserts, f, indent=4)\n",
        "\n"
      ]
    },
    {
      "cell_type": "code",
      "execution_count": 9,
      "metadata": {},
      "outputs": [
        {
          "data": {
            "application/vnd.jupyter.widget-view+json": {
              "model_id": "e298286312d54b2dac4cd171b436d63c",
              "version_major": 2,
              "version_minor": 0
            },
            "text/plain": [
              "  0%|          | 0/1 [00:00<?, ?it/s]"
            ]
          },
          "metadata": {},
          "output_type": "display_data"
        }
      ],
      "source": [
        "# upsert data straight into pinecone\n",
        "# import json\n",
        "from datetime import datetime\n",
        "from tqdm.auto import tqdm  # for progress bar\n",
        "\n",
        "# Assume all_embeddings and all_tokens are already defined\n",
        "\n",
        "# reformat the data\n",
        "# data means the zipped embeddings and all tokens\n",
        "# this correctly formats the json dump\n",
        "# and is working to upload straight \n",
        "# into pincone as of Aguust 9, 2023\n",
        "upserts = {'vectors': []}\n",
        "for i, (embedding, tokens) in enumerate(zip(all_embeddings, all_tokens)):\n",
        "    vector = {\n",
        "        'id': f'{i}',\n",
        "        'metadata': {\n",
        "            'tokens': tokens,\n",
        "            'time_stamp': datetime.now().strftime('%Y-%m-%d %H:%M:%S')  # Place timestamp within metadata\n",
        "        },\n",
        "        'values': embedding.tolist()\n",
        "    }\n",
        "    upserts['vectors'].append(vector)\n",
        "\n",
        "# Add namespace at the root level\n",
        "upserts['namespace'] = 'websitenearme'\n",
        "\n",
        "# Use upserts['vectors'] as the dataset\n",
        "dataset = upserts['vectors']\n",
        "\n",
        "# Insert data as batches\n",
        "batch_size = 100\n",
        "for i in tqdm(range(0, len(dataset), batch_size)):\n",
        "    # set end of current batch\n",
        "    i_end = i + batch_size\n",
        "    if i_end > len(dataset):\n",
        "        # correct if batch is beyond dataset size\n",
        "        i_end = len(dataset)\n",
        "    batch = dataset[i: i_end]\n",
        "    # Upsert the batch (assuming the structure of batch matches the expected format)\n",
        "    index.upsert(vectors=batch)\n"
      ]
    },
    {
      "cell_type": "code",
      "execution_count": 10,
      "metadata": {},
      "outputs": [
        {
          "data": {
            "text/plain": [
              "{'matches': [{'id': '25',\n",
              "              'metadata': {'time_stamp': datetime.datetime(2023, 8, 9, 11, 13, 50),\n",
              "                           'tokens': ['subscriptions', 'and', 'prices']},\n",
              "              'score': 0.488167524,\n",
              "              'values': []}],\n",
              " 'namespace': ''}"
            ]
          },
          "execution_count": 10,
          "metadata": {},
          "output_type": "execute_result"
        }
      ],
      "source": [
        "# KEYWORD search\n",
        "query_sentence = \"prices\"\n",
        "xq = model.encode(query_sentence).tolist()\n",
        "# get the data from Pinecone\n",
        "result = index.query(xq, top_k=1, includeMetadata=True)\n",
        "result"
      ]
    },
    {
      "cell_type": "code",
      "execution_count": 16,
      "metadata": {},
      "outputs": [
        {
          "data": {
            "text/plain": [
              "{'matches': [{'id': '17',\n",
              "              'metadata': {'time_stamp': datetime.datetime(2023, 8, 9, 11, 13, 50),\n",
              "                           'tokens': ['chatbot', 'types', 'and', 'prices']},\n",
              "              'score': 0.294125766,\n",
              "              'values': []},\n",
              "             {'id': '24',\n",
              "              'metadata': {'time_stamp': datetime.datetime(2023, 8, 9, 11, 13, 50),\n",
              "                           'tokens': ['content',\n",
              "                                      'generation-',\n",
              "                                      '4',\n",
              "                                      'posts',\n",
              "                                      ',',\n",
              "                                      '1',\n",
              "                                      'per',\n",
              "                                      'week',\n",
              "                                      '$',\n",
              "                                      '100',\n",
              "                                      '/',\n",
              "                                      'month']},\n",
              "              'score': 0.264597684,\n",
              "              'values': []},\n",
              "             {'id': '15',\n",
              "              'metadata': {'time_stamp': datetime.datetime(2023, 8, 9, 11, 13, 50),\n",
              "                           'tokens': ['multiple',\n",
              "                                      'chatbots',\n",
              "                                      'with',\n",
              "                                      'different',\n",
              "                                      'personalities',\n",
              "                                      '/',\n",
              "                                      'purposes',\n",
              "                                      '$',\n",
              "                                      '100',\n",
              "                                      'each']},\n",
              "              'score': 0.259196728,\n",
              "              'values': []}],\n",
              " 'namespace': ''}"
            ]
          },
          "execution_count": 16,
          "metadata": {},
          "output_type": "execute_result"
        }
      ],
      "source": [
        "# SEMANTIC search\n",
        "query_sentence = \"what are your prices\"\n",
        "xq = model.encode(query_sentence).tolist()\n",
        "# get the data from Pinecone\n",
        "result = index.query(xq, top_k=3, includeMetadata=True)\n",
        "result\n"
      ]
    },
    {
      "cell_type": "markdown",
      "metadata": {},
      "source": [
        "THIS IS EXTREMELY USEFUL INFO TO KNOW THAT A USER WOULD NOT BE ABLE TO ASK ABOUT PRICES AND GET BACK INFO ON SOME MAIN PRODUCTS SUCH AS:\n",
        "WEBSITE DEVELOPMENT\n",
        "OTHER SERVICES\n",
        "SUBSCRIPTIONS\n",
        "EMERGENCIES, ETC\n"
      ]
    },
    {
      "cell_type": "markdown",
      "metadata": {},
      "source": []
    },
    {
      "cell_type": "markdown",
      "metadata": {},
      "source": [
        "there fore I must change the top_k=3 to a larger number to see all outputs and can more easily adjust vs messing with the prompts first\n"
      ]
    },
    {
      "cell_type": "code",
      "execution_count": 18,
      "metadata": {},
      "outputs": [
        {
          "name": "stdout",
          "output_type": "stream",
          "text": [
            "Query Sentence: what are your prices\n",
            "\n",
            "Results:\n",
            "\n",
            "                                              Tokens     Score  ID\n",
            "0                        chatbot, types, and, prices  0.294126  17\n",
            "1  content, generation-, 4, posts, ,, 1, per, wee...  0.264598  24\n",
            "2  multiple, chatbots, with, different, personali...  0.259197  15\n"
          ]
        }
      ],
      "source": [
        "print(\"The row is enumerating the top_k=n value\")\n",
        "print(f\"Query Sentence: {query_sentence}\\n\")\n",
        "print(\"Results:\\n\")\n",
        "\n",
        "# print results neatly:\n",
        "import pandas as pd\n",
        "from datetime import datetime\n",
        "\n",
        "def dict_to_dataframe(data: dict) -> pd.DataFrame:\n",
        "    \"\"\"\n",
        "    Convert the provided dictionary to a pandas DataFrame.\n",
        "    \n",
        "    Args:\n",
        "    - data (dict): The dictionary containing token and metadata information.\n",
        "    \n",
        "    Returns:\n",
        "    pd.DataFrame: The formatted DataFrame.\n",
        "    \"\"\"\n",
        "    \n",
        "    # Extract the 'matches' from the data\n",
        "    matches = data['matches']\n",
        "    \n",
        "    # Prepare lists to store extracted data\n",
        "    tokens_list, score_list, id_list = [], [], []\n",
        "\n",
        "    # Iterate over matches and extract required data\n",
        "    for match in matches:\n",
        "        tokens = ', '.join(match['metadata']['tokens'])\n",
        "        score = match['score']\n",
        "        id = match['id']\n",
        "\n",
        "        tokens_list.append(tokens)\n",
        "        score_list.append(score)\n",
        "        id_list.append(id)\n",
        "\n",
        "    # Create a DataFrame\n",
        "    df = pd.DataFrame({\n",
        "        'Tokens': tokens_list,\n",
        "        'Score': score_list,\n",
        "        'ID': id_list\n",
        "    })\n",
        "\n",
        "    return df\n",
        "\n",
        "# Test the function\n",
        "# data = {\n",
        "#     'matches': [\n",
        "#         {'id': '17',\n",
        "#          'metadata': {'time_stamp': datetime(2023, 8, 9, 11, 13, 50),\n",
        "#                       'tokens': ['chatbot', 'types', 'and', 'prices']},\n",
        "#          'score': 0.294125766,\n",
        "#          'values': []},\n",
        "#         {'id': '24',\n",
        "#          'metadata': {'time_stamp': datetime(2023, 8, 9, 11, 13, 50),\n",
        "#                       'tokens': ['content', 'generation-', '4', 'posts', ',', '1', 'per', 'week', '$', '100', '/', 'month']},\n",
        "#          'score': 0.264597684,\n",
        "#          'values': []},\n",
        "#         {'id': '15',\n",
        "#          'metadata': {'time_stamp': datetime(2023, 8, 9, 11, 13, 50),\n",
        "#                       'tokens': ['multiple', 'chatbots', 'with', 'different', 'personalities', '/', 'purposes', '$', '100', 'each']},\n",
        "#          'score': 0.259196728,\n",
        "#          'values': []}\n",
        "#     ],\n",
        "#     'namespace': ''\n",
        "# }\n",
        "\n",
        "df = dict_to_dataframe(result)\n",
        "print(df)\n"
      ]
    },
    {
      "cell_type": "code",
      "execution_count": null,
      "metadata": {},
      "outputs": [],
      "source": []
    }
  ],
  "metadata": {
    "colab": {
      "authorship_tag": "ABX9TyONM96f7/m0jUCD9c87+MQy",
      "include_colab_link": true,
      "provenance": []
    },
    "kernelspec": {
      "display_name": "Python 3",
      "name": "python3"
    },
    "language_info": {
      "codemirror_mode": {
        "name": "ipython",
        "version": 3
      },
      "file_extension": ".py",
      "mimetype": "text/x-python",
      "name": "python",
      "nbconvert_exporter": "python",
      "pygments_lexer": "ipython3",
      "version": "3.11.3"
    }
  },
  "nbformat": 4,
  "nbformat_minor": 0
}
